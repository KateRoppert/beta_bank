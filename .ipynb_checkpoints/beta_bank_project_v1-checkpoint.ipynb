{
 "cells": [
  {
   "cell_type": "markdown",
   "id": "9f2a3d4c",
   "metadata": {},
   "source": [
    "# Отток клиентов"
   ]
  },
  {
   "cell_type": "markdown",
   "id": "6cd5ab0b",
   "metadata": {},
   "source": [
    "Из «Бета-Банка» стали уходить клиенты. Каждый месяц. Немного, но заметно. Банковские маркетологи посчитали: сохранять текущих клиентов дешевле, чем привлекать новых.\n",
    "\n",
    "Нужно спрогнозировать, уйдёт клиент из банка в ближайшее время или нет. Вам предоставлены исторические данные о поведении клиентов и расторжении договоров с банком. \n",
    "\n",
    "Постройте модель с предельно большим значением *F1*-меры. Чтобы сдать проект успешно, нужно довести метрику до 0.59. Проверьте *F1*-меру на тестовой выборке самостоятельно.\n",
    "\n",
    "Дополнительно измеряйте *AUC-ROC*, сравнивайте её значение с *F1*-мерой.\n",
    "\n",
    "Источник данных: [https://www.kaggle.com/barelydedicated/bank-customer-churn-modeling](https://www.kaggle.com/barelydedicated/bank-customer-churn-modeling)"
   ]
  },
  {
   "cell_type": "markdown",
   "id": "4e01facb",
   "metadata": {},
   "source": [
    "## Подготовка данных"
   ]
  },
  {
   "cell_type": "code",
   "execution_count": 101,
   "id": "95aed437",
   "metadata": {},
   "outputs": [],
   "source": [
    "# импортирование библиотек\n",
    "import pandas as pd\n",
    "import numpy as np\n",
    "import joblib\n",
    "import matplotlib.pyplot as plt\n",
    "from sklearn.preprocessing import StandardScaler, OrdinalEncoder, OneHotEncoder\n",
    "from sklearn.model_selection import train_test_split\n",
    "from sklearn.tree import DecisionTreeClassifier\n",
    "from sklearn.linear_model import LogisticRegression\n",
    "from sklearn.ensemble import RandomForestClassifier\n",
    "from sklearn.metrics import accuracy_score, precision_score, recall_score, f1_score, confusion_matrix, roc_curve, roc_auc_score, precision_recall_curve\n",
    "from sklearn.utils import shuffle\n",
    "pd.options.mode.chained_assignment = None"
   ]
  },
  {
   "cell_type": "code",
   "execution_count": 102,
   "id": "ba01833b",
   "metadata": {},
   "outputs": [],
   "source": [
    "data = pd.read_csv('Churn.csv')"
   ]
  },
  {
   "cell_type": "code",
   "execution_count": 103,
   "id": "acb58d0a",
   "metadata": {
    "scrolled": true
   },
   "outputs": [
    {
     "data": {
      "text/html": [
       "<div>\n",
       "<style scoped>\n",
       "    .dataframe tbody tr th:only-of-type {\n",
       "        vertical-align: middle;\n",
       "    }\n",
       "\n",
       "    .dataframe tbody tr th {\n",
       "        vertical-align: top;\n",
       "    }\n",
       "\n",
       "    .dataframe thead th {\n",
       "        text-align: right;\n",
       "    }\n",
       "</style>\n",
       "<table border=\"1\" class=\"dataframe\">\n",
       "  <thead>\n",
       "    <tr style=\"text-align: right;\">\n",
       "      <th></th>\n",
       "      <th>RowNumber</th>\n",
       "      <th>CustomerId</th>\n",
       "      <th>Surname</th>\n",
       "      <th>CreditScore</th>\n",
       "      <th>Geography</th>\n",
       "      <th>Gender</th>\n",
       "      <th>Age</th>\n",
       "      <th>Tenure</th>\n",
       "      <th>Balance</th>\n",
       "      <th>NumOfProducts</th>\n",
       "      <th>HasCrCard</th>\n",
       "      <th>IsActiveMember</th>\n",
       "      <th>EstimatedSalary</th>\n",
       "      <th>Exited</th>\n",
       "    </tr>\n",
       "  </thead>\n",
       "  <tbody>\n",
       "    <tr>\n",
       "      <th>0</th>\n",
       "      <td>1</td>\n",
       "      <td>15634602</td>\n",
       "      <td>Hargrave</td>\n",
       "      <td>619</td>\n",
       "      <td>France</td>\n",
       "      <td>Female</td>\n",
       "      <td>42</td>\n",
       "      <td>2.0</td>\n",
       "      <td>0.00</td>\n",
       "      <td>1</td>\n",
       "      <td>1</td>\n",
       "      <td>1</td>\n",
       "      <td>101348.88</td>\n",
       "      <td>1</td>\n",
       "    </tr>\n",
       "    <tr>\n",
       "      <th>1</th>\n",
       "      <td>2</td>\n",
       "      <td>15647311</td>\n",
       "      <td>Hill</td>\n",
       "      <td>608</td>\n",
       "      <td>Spain</td>\n",
       "      <td>Female</td>\n",
       "      <td>41</td>\n",
       "      <td>1.0</td>\n",
       "      <td>83807.86</td>\n",
       "      <td>1</td>\n",
       "      <td>0</td>\n",
       "      <td>1</td>\n",
       "      <td>112542.58</td>\n",
       "      <td>0</td>\n",
       "    </tr>\n",
       "    <tr>\n",
       "      <th>2</th>\n",
       "      <td>3</td>\n",
       "      <td>15619304</td>\n",
       "      <td>Onio</td>\n",
       "      <td>502</td>\n",
       "      <td>France</td>\n",
       "      <td>Female</td>\n",
       "      <td>42</td>\n",
       "      <td>8.0</td>\n",
       "      <td>159660.80</td>\n",
       "      <td>3</td>\n",
       "      <td>1</td>\n",
       "      <td>0</td>\n",
       "      <td>113931.57</td>\n",
       "      <td>1</td>\n",
       "    </tr>\n",
       "    <tr>\n",
       "      <th>3</th>\n",
       "      <td>4</td>\n",
       "      <td>15701354</td>\n",
       "      <td>Boni</td>\n",
       "      <td>699</td>\n",
       "      <td>France</td>\n",
       "      <td>Female</td>\n",
       "      <td>39</td>\n",
       "      <td>1.0</td>\n",
       "      <td>0.00</td>\n",
       "      <td>2</td>\n",
       "      <td>0</td>\n",
       "      <td>0</td>\n",
       "      <td>93826.63</td>\n",
       "      <td>0</td>\n",
       "    </tr>\n",
       "    <tr>\n",
       "      <th>4</th>\n",
       "      <td>5</td>\n",
       "      <td>15737888</td>\n",
       "      <td>Mitchell</td>\n",
       "      <td>850</td>\n",
       "      <td>Spain</td>\n",
       "      <td>Female</td>\n",
       "      <td>43</td>\n",
       "      <td>2.0</td>\n",
       "      <td>125510.82</td>\n",
       "      <td>1</td>\n",
       "      <td>1</td>\n",
       "      <td>1</td>\n",
       "      <td>79084.10</td>\n",
       "      <td>0</td>\n",
       "    </tr>\n",
       "    <tr>\n",
       "      <th>5</th>\n",
       "      <td>6</td>\n",
       "      <td>15574012</td>\n",
       "      <td>Chu</td>\n",
       "      <td>645</td>\n",
       "      <td>Spain</td>\n",
       "      <td>Male</td>\n",
       "      <td>44</td>\n",
       "      <td>8.0</td>\n",
       "      <td>113755.78</td>\n",
       "      <td>2</td>\n",
       "      <td>1</td>\n",
       "      <td>0</td>\n",
       "      <td>149756.71</td>\n",
       "      <td>1</td>\n",
       "    </tr>\n",
       "    <tr>\n",
       "      <th>6</th>\n",
       "      <td>7</td>\n",
       "      <td>15592531</td>\n",
       "      <td>Bartlett</td>\n",
       "      <td>822</td>\n",
       "      <td>France</td>\n",
       "      <td>Male</td>\n",
       "      <td>50</td>\n",
       "      <td>7.0</td>\n",
       "      <td>0.00</td>\n",
       "      <td>2</td>\n",
       "      <td>1</td>\n",
       "      <td>1</td>\n",
       "      <td>10062.80</td>\n",
       "      <td>0</td>\n",
       "    </tr>\n",
       "    <tr>\n",
       "      <th>7</th>\n",
       "      <td>8</td>\n",
       "      <td>15656148</td>\n",
       "      <td>Obinna</td>\n",
       "      <td>376</td>\n",
       "      <td>Germany</td>\n",
       "      <td>Female</td>\n",
       "      <td>29</td>\n",
       "      <td>4.0</td>\n",
       "      <td>115046.74</td>\n",
       "      <td>4</td>\n",
       "      <td>1</td>\n",
       "      <td>0</td>\n",
       "      <td>119346.88</td>\n",
       "      <td>1</td>\n",
       "    </tr>\n",
       "    <tr>\n",
       "      <th>8</th>\n",
       "      <td>9</td>\n",
       "      <td>15792365</td>\n",
       "      <td>He</td>\n",
       "      <td>501</td>\n",
       "      <td>France</td>\n",
       "      <td>Male</td>\n",
       "      <td>44</td>\n",
       "      <td>4.0</td>\n",
       "      <td>142051.07</td>\n",
       "      <td>2</td>\n",
       "      <td>0</td>\n",
       "      <td>1</td>\n",
       "      <td>74940.50</td>\n",
       "      <td>0</td>\n",
       "    </tr>\n",
       "    <tr>\n",
       "      <th>9</th>\n",
       "      <td>10</td>\n",
       "      <td>15592389</td>\n",
       "      <td>H?</td>\n",
       "      <td>684</td>\n",
       "      <td>France</td>\n",
       "      <td>Male</td>\n",
       "      <td>27</td>\n",
       "      <td>2.0</td>\n",
       "      <td>134603.88</td>\n",
       "      <td>1</td>\n",
       "      <td>1</td>\n",
       "      <td>1</td>\n",
       "      <td>71725.73</td>\n",
       "      <td>0</td>\n",
       "    </tr>\n",
       "  </tbody>\n",
       "</table>\n",
       "</div>"
      ],
      "text/plain": [
       "   RowNumber  CustomerId   Surname  CreditScore Geography  Gender  Age  \\\n",
       "0          1    15634602  Hargrave          619    France  Female   42   \n",
       "1          2    15647311      Hill          608     Spain  Female   41   \n",
       "2          3    15619304      Onio          502    France  Female   42   \n",
       "3          4    15701354      Boni          699    France  Female   39   \n",
       "4          5    15737888  Mitchell          850     Spain  Female   43   \n",
       "5          6    15574012       Chu          645     Spain    Male   44   \n",
       "6          7    15592531  Bartlett          822    France    Male   50   \n",
       "7          8    15656148    Obinna          376   Germany  Female   29   \n",
       "8          9    15792365        He          501    France    Male   44   \n",
       "9         10    15592389        H?          684    France    Male   27   \n",
       "\n",
       "   Tenure    Balance  NumOfProducts  HasCrCard  IsActiveMember  \\\n",
       "0     2.0       0.00              1          1               1   \n",
       "1     1.0   83807.86              1          0               1   \n",
       "2     8.0  159660.80              3          1               0   \n",
       "3     1.0       0.00              2          0               0   \n",
       "4     2.0  125510.82              1          1               1   \n",
       "5     8.0  113755.78              2          1               0   \n",
       "6     7.0       0.00              2          1               1   \n",
       "7     4.0  115046.74              4          1               0   \n",
       "8     4.0  142051.07              2          0               1   \n",
       "9     2.0  134603.88              1          1               1   \n",
       "\n",
       "   EstimatedSalary  Exited  \n",
       "0        101348.88       1  \n",
       "1        112542.58       0  \n",
       "2        113931.57       1  \n",
       "3         93826.63       0  \n",
       "4         79084.10       0  \n",
       "5        149756.71       1  \n",
       "6         10062.80       0  \n",
       "7        119346.88       1  \n",
       "8         74940.50       0  \n",
       "9         71725.73       0  "
      ]
     },
     "execution_count": 103,
     "metadata": {},
     "output_type": "execute_result"
    }
   ],
   "source": [
    "data.head(10)"
   ]
  },
  {
   "cell_type": "code",
   "execution_count": 104,
   "id": "3282b424",
   "metadata": {},
   "outputs": [
    {
     "data": {
      "text/html": [
       "<div>\n",
       "<style scoped>\n",
       "    .dataframe tbody tr th:only-of-type {\n",
       "        vertical-align: middle;\n",
       "    }\n",
       "\n",
       "    .dataframe tbody tr th {\n",
       "        vertical-align: top;\n",
       "    }\n",
       "\n",
       "    .dataframe thead th {\n",
       "        text-align: right;\n",
       "    }\n",
       "</style>\n",
       "<table border=\"1\" class=\"dataframe\">\n",
       "  <thead>\n",
       "    <tr style=\"text-align: right;\">\n",
       "      <th></th>\n",
       "      <th>RowNumber</th>\n",
       "      <th>CustomerId</th>\n",
       "      <th>Surname</th>\n",
       "      <th>CreditScore</th>\n",
       "      <th>Geography</th>\n",
       "      <th>Gender</th>\n",
       "      <th>Age</th>\n",
       "      <th>Tenure</th>\n",
       "      <th>Balance</th>\n",
       "      <th>NumOfProducts</th>\n",
       "      <th>HasCrCard</th>\n",
       "      <th>IsActiveMember</th>\n",
       "      <th>EstimatedSalary</th>\n",
       "      <th>Exited</th>\n",
       "    </tr>\n",
       "  </thead>\n",
       "  <tbody>\n",
       "    <tr>\n",
       "      <th>9990</th>\n",
       "      <td>9991</td>\n",
       "      <td>15798964</td>\n",
       "      <td>Nkemakonam</td>\n",
       "      <td>714</td>\n",
       "      <td>Germany</td>\n",
       "      <td>Male</td>\n",
       "      <td>33</td>\n",
       "      <td>3.0</td>\n",
       "      <td>35016.60</td>\n",
       "      <td>1</td>\n",
       "      <td>1</td>\n",
       "      <td>0</td>\n",
       "      <td>53667.08</td>\n",
       "      <td>0</td>\n",
       "    </tr>\n",
       "    <tr>\n",
       "      <th>9991</th>\n",
       "      <td>9992</td>\n",
       "      <td>15769959</td>\n",
       "      <td>Ajuluchukwu</td>\n",
       "      <td>597</td>\n",
       "      <td>France</td>\n",
       "      <td>Female</td>\n",
       "      <td>53</td>\n",
       "      <td>4.0</td>\n",
       "      <td>88381.21</td>\n",
       "      <td>1</td>\n",
       "      <td>1</td>\n",
       "      <td>0</td>\n",
       "      <td>69384.71</td>\n",
       "      <td>1</td>\n",
       "    </tr>\n",
       "    <tr>\n",
       "      <th>9992</th>\n",
       "      <td>9993</td>\n",
       "      <td>15657105</td>\n",
       "      <td>Chukwualuka</td>\n",
       "      <td>726</td>\n",
       "      <td>Spain</td>\n",
       "      <td>Male</td>\n",
       "      <td>36</td>\n",
       "      <td>2.0</td>\n",
       "      <td>0.00</td>\n",
       "      <td>1</td>\n",
       "      <td>1</td>\n",
       "      <td>0</td>\n",
       "      <td>195192.40</td>\n",
       "      <td>0</td>\n",
       "    </tr>\n",
       "    <tr>\n",
       "      <th>9993</th>\n",
       "      <td>9994</td>\n",
       "      <td>15569266</td>\n",
       "      <td>Rahman</td>\n",
       "      <td>644</td>\n",
       "      <td>France</td>\n",
       "      <td>Male</td>\n",
       "      <td>28</td>\n",
       "      <td>7.0</td>\n",
       "      <td>155060.41</td>\n",
       "      <td>1</td>\n",
       "      <td>1</td>\n",
       "      <td>0</td>\n",
       "      <td>29179.52</td>\n",
       "      <td>0</td>\n",
       "    </tr>\n",
       "    <tr>\n",
       "      <th>9994</th>\n",
       "      <td>9995</td>\n",
       "      <td>15719294</td>\n",
       "      <td>Wood</td>\n",
       "      <td>800</td>\n",
       "      <td>France</td>\n",
       "      <td>Female</td>\n",
       "      <td>29</td>\n",
       "      <td>2.0</td>\n",
       "      <td>0.00</td>\n",
       "      <td>2</td>\n",
       "      <td>0</td>\n",
       "      <td>0</td>\n",
       "      <td>167773.55</td>\n",
       "      <td>0</td>\n",
       "    </tr>\n",
       "    <tr>\n",
       "      <th>9995</th>\n",
       "      <td>9996</td>\n",
       "      <td>15606229</td>\n",
       "      <td>Obijiaku</td>\n",
       "      <td>771</td>\n",
       "      <td>France</td>\n",
       "      <td>Male</td>\n",
       "      <td>39</td>\n",
       "      <td>5.0</td>\n",
       "      <td>0.00</td>\n",
       "      <td>2</td>\n",
       "      <td>1</td>\n",
       "      <td>0</td>\n",
       "      <td>96270.64</td>\n",
       "      <td>0</td>\n",
       "    </tr>\n",
       "    <tr>\n",
       "      <th>9996</th>\n",
       "      <td>9997</td>\n",
       "      <td>15569892</td>\n",
       "      <td>Johnstone</td>\n",
       "      <td>516</td>\n",
       "      <td>France</td>\n",
       "      <td>Male</td>\n",
       "      <td>35</td>\n",
       "      <td>10.0</td>\n",
       "      <td>57369.61</td>\n",
       "      <td>1</td>\n",
       "      <td>1</td>\n",
       "      <td>1</td>\n",
       "      <td>101699.77</td>\n",
       "      <td>0</td>\n",
       "    </tr>\n",
       "    <tr>\n",
       "      <th>9997</th>\n",
       "      <td>9998</td>\n",
       "      <td>15584532</td>\n",
       "      <td>Liu</td>\n",
       "      <td>709</td>\n",
       "      <td>France</td>\n",
       "      <td>Female</td>\n",
       "      <td>36</td>\n",
       "      <td>7.0</td>\n",
       "      <td>0.00</td>\n",
       "      <td>1</td>\n",
       "      <td>0</td>\n",
       "      <td>1</td>\n",
       "      <td>42085.58</td>\n",
       "      <td>1</td>\n",
       "    </tr>\n",
       "    <tr>\n",
       "      <th>9998</th>\n",
       "      <td>9999</td>\n",
       "      <td>15682355</td>\n",
       "      <td>Sabbatini</td>\n",
       "      <td>772</td>\n",
       "      <td>Germany</td>\n",
       "      <td>Male</td>\n",
       "      <td>42</td>\n",
       "      <td>3.0</td>\n",
       "      <td>75075.31</td>\n",
       "      <td>2</td>\n",
       "      <td>1</td>\n",
       "      <td>0</td>\n",
       "      <td>92888.52</td>\n",
       "      <td>1</td>\n",
       "    </tr>\n",
       "    <tr>\n",
       "      <th>9999</th>\n",
       "      <td>10000</td>\n",
       "      <td>15628319</td>\n",
       "      <td>Walker</td>\n",
       "      <td>792</td>\n",
       "      <td>France</td>\n",
       "      <td>Female</td>\n",
       "      <td>28</td>\n",
       "      <td>NaN</td>\n",
       "      <td>130142.79</td>\n",
       "      <td>1</td>\n",
       "      <td>1</td>\n",
       "      <td>0</td>\n",
       "      <td>38190.78</td>\n",
       "      <td>0</td>\n",
       "    </tr>\n",
       "  </tbody>\n",
       "</table>\n",
       "</div>"
      ],
      "text/plain": [
       "      RowNumber  CustomerId      Surname  CreditScore Geography  Gender  Age  \\\n",
       "9990       9991    15798964   Nkemakonam          714   Germany    Male   33   \n",
       "9991       9992    15769959  Ajuluchukwu          597    France  Female   53   \n",
       "9992       9993    15657105  Chukwualuka          726     Spain    Male   36   \n",
       "9993       9994    15569266       Rahman          644    France    Male   28   \n",
       "9994       9995    15719294         Wood          800    France  Female   29   \n",
       "9995       9996    15606229     Obijiaku          771    France    Male   39   \n",
       "9996       9997    15569892    Johnstone          516    France    Male   35   \n",
       "9997       9998    15584532          Liu          709    France  Female   36   \n",
       "9998       9999    15682355    Sabbatini          772   Germany    Male   42   \n",
       "9999      10000    15628319       Walker          792    France  Female   28   \n",
       "\n",
       "      Tenure    Balance  NumOfProducts  HasCrCard  IsActiveMember  \\\n",
       "9990     3.0   35016.60              1          1               0   \n",
       "9991     4.0   88381.21              1          1               0   \n",
       "9992     2.0       0.00              1          1               0   \n",
       "9993     7.0  155060.41              1          1               0   \n",
       "9994     2.0       0.00              2          0               0   \n",
       "9995     5.0       0.00              2          1               0   \n",
       "9996    10.0   57369.61              1          1               1   \n",
       "9997     7.0       0.00              1          0               1   \n",
       "9998     3.0   75075.31              2          1               0   \n",
       "9999     NaN  130142.79              1          1               0   \n",
       "\n",
       "      EstimatedSalary  Exited  \n",
       "9990         53667.08       0  \n",
       "9991         69384.71       1  \n",
       "9992        195192.40       0  \n",
       "9993         29179.52       0  \n",
       "9994        167773.55       0  \n",
       "9995         96270.64       0  \n",
       "9996        101699.77       0  \n",
       "9997         42085.58       1  \n",
       "9998         92888.52       1  \n",
       "9999         38190.78       0  "
      ]
     },
     "execution_count": 104,
     "metadata": {},
     "output_type": "execute_result"
    }
   ],
   "source": [
    "data.tail(10)"
   ]
  },
  {
   "cell_type": "markdown",
   "id": "a189bca4",
   "metadata": {},
   "source": [
    "**Документация к данным**\n",
    "  \n",
    "*Признаки*\n",
    "- `RowNumber` — индекс строки в данных\n",
    "- `CustomerId` — уникальный идентификатор клиента\n",
    "- `Surname` — фамилия\n",
    "- `CreditScore` — кредитный рейтинг\n",
    "- `Geography` — страна проживания\n",
    "- `Gender` — пол\n",
    "- `Age` — возраст\n",
    "- `Tenure` — сколько лет человек является клиентом банка\n",
    "- `Balance` — баланс на счёте\n",
    "- `NumOfProducts` — количество продуктов банка, используемых клиентом\n",
    "- `HasCrCard` — наличие кредитной карты\n",
    "- `IsActiveMember` — активность клиента\n",
    "- `EstimatedSalary` — предполагаемая зарплата\n",
    "   \n",
    "*Целевой признак*\n",
    "- `Exited` — факт ухода клиента"
   ]
  },
  {
   "cell_type": "code",
   "execution_count": 105,
   "id": "82f79586",
   "metadata": {},
   "outputs": [
    {
     "name": "stdout",
     "output_type": "stream",
     "text": [
      "<class 'pandas.core.frame.DataFrame'>\n",
      "RangeIndex: 10000 entries, 0 to 9999\n",
      "Data columns (total 14 columns):\n",
      " #   Column           Non-Null Count  Dtype  \n",
      "---  ------           --------------  -----  \n",
      " 0   RowNumber        10000 non-null  int64  \n",
      " 1   CustomerId       10000 non-null  int64  \n",
      " 2   Surname          10000 non-null  object \n",
      " 3   CreditScore      10000 non-null  int64  \n",
      " 4   Geography        10000 non-null  object \n",
      " 5   Gender           10000 non-null  object \n",
      " 6   Age              10000 non-null  int64  \n",
      " 7   Tenure           9091 non-null   float64\n",
      " 8   Balance          10000 non-null  float64\n",
      " 9   NumOfProducts    10000 non-null  int64  \n",
      " 10  HasCrCard        10000 non-null  int64  \n",
      " 11  IsActiveMember   10000 non-null  int64  \n",
      " 12  EstimatedSalary  10000 non-null  float64\n",
      " 13  Exited           10000 non-null  int64  \n",
      "dtypes: float64(3), int64(8), object(3)\n",
      "memory usage: 1.1+ MB\n"
     ]
    }
   ],
   "source": [
    "data.info()"
   ]
  },
  {
   "cell_type": "markdown",
   "id": "1c88ebc0",
   "metadata": {},
   "source": [
    "Есть пропуски в колонке Tenure, можно заполнить значения средним по столбцу."
   ]
  },
  {
   "cell_type": "code",
   "execution_count": 106,
   "id": "41d5085e",
   "metadata": {},
   "outputs": [
    {
     "data": {
      "text/plain": [
       "count    9091.000000\n",
       "mean        4.997690\n",
       "std         2.894723\n",
       "min         0.000000\n",
       "25%         2.000000\n",
       "50%         5.000000\n",
       "75%         7.000000\n",
       "max        10.000000\n",
       "Name: Tenure, dtype: float64"
      ]
     },
     "execution_count": 106,
     "metadata": {},
     "output_type": "execute_result"
    }
   ],
   "source": [
    "data['Tenure'].describe()"
   ]
  },
  {
   "cell_type": "markdown",
   "id": "5d1c2c2d",
   "metadata": {},
   "source": [
    "В данных нет особого разброса значений: пропуски можно заполнить значением 5, что является одновременно и средним, и медианой."
   ]
  },
  {
   "cell_type": "code",
   "execution_count": 107,
   "id": "4f780634",
   "metadata": {},
   "outputs": [
    {
     "data": {
      "text/plain": [
       "0"
      ]
     },
     "execution_count": 107,
     "metadata": {},
     "output_type": "execute_result"
    }
   ],
   "source": [
    "data['Tenure'] = data['Tenure'].fillna(value=data['Tenure'].median())\n",
    "data['Tenure'].isna().sum()"
   ]
  },
  {
   "cell_type": "markdown",
   "id": "ae3c729f",
   "metadata": {},
   "source": [
    "Колонка Tenure содержит целые числа, поэтому преобразуем к типу int."
   ]
  },
  {
   "cell_type": "code",
   "execution_count": 108,
   "id": "edb9f94a",
   "metadata": {},
   "outputs": [
    {
     "data": {
      "text/plain": [
       "dtype('int32')"
      ]
     },
     "execution_count": 108,
     "metadata": {},
     "output_type": "execute_result"
    }
   ],
   "source": [
    "data['Tenure'] = data['Tenure'].astype('int')\n",
    "data['Tenure'].dtypes"
   ]
  },
  {
   "cell_type": "markdown",
   "id": "c3e392ec",
   "metadata": {},
   "source": [
    "Колонки RowNumber, CustomerId и Surname - уникальные значения, они не подойдут в качестве признаков для обучения, поэтому их нужно удалить."
   ]
  },
  {
   "cell_type": "code",
   "execution_count": 109,
   "id": "580f727c",
   "metadata": {},
   "outputs": [
    {
     "data": {
      "text/html": [
       "<div>\n",
       "<style scoped>\n",
       "    .dataframe tbody tr th:only-of-type {\n",
       "        vertical-align: middle;\n",
       "    }\n",
       "\n",
       "    .dataframe tbody tr th {\n",
       "        vertical-align: top;\n",
       "    }\n",
       "\n",
       "    .dataframe thead th {\n",
       "        text-align: right;\n",
       "    }\n",
       "</style>\n",
       "<table border=\"1\" class=\"dataframe\">\n",
       "  <thead>\n",
       "    <tr style=\"text-align: right;\">\n",
       "      <th></th>\n",
       "      <th>CreditScore</th>\n",
       "      <th>Geography</th>\n",
       "      <th>Gender</th>\n",
       "      <th>Age</th>\n",
       "      <th>Tenure</th>\n",
       "      <th>Balance</th>\n",
       "      <th>NumOfProducts</th>\n",
       "      <th>HasCrCard</th>\n",
       "      <th>IsActiveMember</th>\n",
       "      <th>EstimatedSalary</th>\n",
       "      <th>Exited</th>\n",
       "    </tr>\n",
       "  </thead>\n",
       "  <tbody>\n",
       "    <tr>\n",
       "      <th>0</th>\n",
       "      <td>619</td>\n",
       "      <td>France</td>\n",
       "      <td>Female</td>\n",
       "      <td>42</td>\n",
       "      <td>2</td>\n",
       "      <td>0.00</td>\n",
       "      <td>1</td>\n",
       "      <td>1</td>\n",
       "      <td>1</td>\n",
       "      <td>101348.88</td>\n",
       "      <td>1</td>\n",
       "    </tr>\n",
       "    <tr>\n",
       "      <th>1</th>\n",
       "      <td>608</td>\n",
       "      <td>Spain</td>\n",
       "      <td>Female</td>\n",
       "      <td>41</td>\n",
       "      <td>1</td>\n",
       "      <td>83807.86</td>\n",
       "      <td>1</td>\n",
       "      <td>0</td>\n",
       "      <td>1</td>\n",
       "      <td>112542.58</td>\n",
       "      <td>0</td>\n",
       "    </tr>\n",
       "    <tr>\n",
       "      <th>2</th>\n",
       "      <td>502</td>\n",
       "      <td>France</td>\n",
       "      <td>Female</td>\n",
       "      <td>42</td>\n",
       "      <td>8</td>\n",
       "      <td>159660.80</td>\n",
       "      <td>3</td>\n",
       "      <td>1</td>\n",
       "      <td>0</td>\n",
       "      <td>113931.57</td>\n",
       "      <td>1</td>\n",
       "    </tr>\n",
       "    <tr>\n",
       "      <th>3</th>\n",
       "      <td>699</td>\n",
       "      <td>France</td>\n",
       "      <td>Female</td>\n",
       "      <td>39</td>\n",
       "      <td>1</td>\n",
       "      <td>0.00</td>\n",
       "      <td>2</td>\n",
       "      <td>0</td>\n",
       "      <td>0</td>\n",
       "      <td>93826.63</td>\n",
       "      <td>0</td>\n",
       "    </tr>\n",
       "    <tr>\n",
       "      <th>4</th>\n",
       "      <td>850</td>\n",
       "      <td>Spain</td>\n",
       "      <td>Female</td>\n",
       "      <td>43</td>\n",
       "      <td>2</td>\n",
       "      <td>125510.82</td>\n",
       "      <td>1</td>\n",
       "      <td>1</td>\n",
       "      <td>1</td>\n",
       "      <td>79084.10</td>\n",
       "      <td>0</td>\n",
       "    </tr>\n",
       "  </tbody>\n",
       "</table>\n",
       "</div>"
      ],
      "text/plain": [
       "   CreditScore Geography  Gender  Age  Tenure    Balance  NumOfProducts  \\\n",
       "0          619    France  Female   42       2       0.00              1   \n",
       "1          608     Spain  Female   41       1   83807.86              1   \n",
       "2          502    France  Female   42       8  159660.80              3   \n",
       "3          699    France  Female   39       1       0.00              2   \n",
       "4          850     Spain  Female   43       2  125510.82              1   \n",
       "\n",
       "   HasCrCard  IsActiveMember  EstimatedSalary  Exited  \n",
       "0          1               1        101348.88       1  \n",
       "1          0               1        112542.58       0  \n",
       "2          1               0        113931.57       1  \n",
       "3          0               0         93826.63       0  \n",
       "4          1               1         79084.10       0  "
      ]
     },
     "execution_count": 109,
     "metadata": {},
     "output_type": "execute_result"
    }
   ],
   "source": [
    "data = data.drop(['RowNumber', 'CustomerId', 'Surname'], axis=1)\n",
    "data.head()"
   ]
  },
  {
   "cell_type": "markdown",
   "id": "26956898",
   "metadata": {},
   "source": [
    "Преобразуем категориальные признаки в количественные техникой прямого кодирования для логистической регрессии, техникой порядкового кодирования - для деревянных моделей. Для логистической регрессии также применим стандартизацию числовых признаков."
   ]
  },
  {
   "cell_type": "code",
   "execution_count": 110,
   "id": "b4467407",
   "metadata": {},
   "outputs": [],
   "source": [
    "features = data.drop(['Exited'], axis=1)\n",
    "target = data['Exited']"
   ]
  },
  {
   "cell_type": "code",
   "execution_count": 111,
   "id": "88fd1af6",
   "metadata": {},
   "outputs": [],
   "source": [
    "# делим данные на обучающую, валидационную и тестовую выборки\n",
    "features_train, features_vt, target_train, target_vt = train_test_split(features, target, random_state=12345, test_size=0.4)\n",
    "features_valid, features_test, target_valid, target_test = train_test_split(features_vt, target_vt, random_state=12345, test_size=0.5)"
   ]
  },
  {
   "cell_type": "code",
   "execution_count": 112,
   "id": "e2b12564",
   "metadata": {},
   "outputs": [],
   "source": [
    "# отделим количественные признаки от категориальных\n",
    "numeric = ['CreditScore', 'Age', 'Tenure', 'Balance', 'NumOfProducts', 'EstimatedSalary']\n",
    "categorical = ['Geography', 'Gender', 'HasCrCard', 'IsActiveMember']"
   ]
  },
  {
   "cell_type": "code",
   "execution_count": 113,
   "id": "4e009d8d",
   "metadata": {},
   "outputs": [],
   "source": [
    "# прямое кодирование категориальных признаков на обучающей выборке для логистической регрессии\n",
    "ohe_encoder = OneHotEncoder(drop='first')\n",
    "ohe_encoder.fit(features_train[categorical])\n",
    "features_train_encoded = pd.DataFrame(\n",
    "    ohe_encoder.transform(features_train[categorical]).toarray(),\n",
    "    columns=ohe_encoder.get_feature_names(categorical)\n",
    ")\n",
    "\n",
    "features_train_ohe = pd.concat((features_train[numeric].reset_index(drop=True), features_train_encoded.reset_index(drop=True)), axis=1)"
   ]
  },
  {
   "cell_type": "code",
   "execution_count": 114,
   "id": "426a026a",
   "metadata": {},
   "outputs": [],
   "source": [
    "# прямое кодирование категориальных признаков на валидационной выборке для логистической регрессии\n",
    "features_valid_encoded = pd.DataFrame(\n",
    "    ohe_encoder.transform(features_valid[categorical]).toarray(),\n",
    "    columns=ohe_encoder.get_feature_names(categorical)\n",
    ")\n",
    "\n",
    "features_valid_ohe = pd.concat((features_valid[numeric].reset_index(drop=True), features_valid_encoded.reset_index(drop=True)), axis=1)"
   ]
  },
  {
   "cell_type": "code",
   "execution_count": 115,
   "id": "4a4b1a44",
   "metadata": {},
   "outputs": [],
   "source": [
    "# прямое кодирование категориальных признаков на тестовой выборке для логистической регрессии\n",
    "features_test_encoded = pd.DataFrame(\n",
    "    ohe_encoder.transform(features_test[categorical]).toarray(),\n",
    "    columns=ohe_encoder.get_feature_names(categorical)\n",
    ")\n",
    "\n",
    "features_test_ohe = pd.concat((features_test[numeric].reset_index(drop=True), features_test_encoded.reset_index(drop=True)), axis=1)"
   ]
  },
  {
   "cell_type": "code",
   "execution_count": 116,
   "id": "35c31066",
   "metadata": {},
   "outputs": [
    {
     "data": {
      "text/html": [
       "<div>\n",
       "<style scoped>\n",
       "    .dataframe tbody tr th:only-of-type {\n",
       "        vertical-align: middle;\n",
       "    }\n",
       "\n",
       "    .dataframe tbody tr th {\n",
       "        vertical-align: top;\n",
       "    }\n",
       "\n",
       "    .dataframe thead th {\n",
       "        text-align: right;\n",
       "    }\n",
       "</style>\n",
       "<table border=\"1\" class=\"dataframe\">\n",
       "  <thead>\n",
       "    <tr style=\"text-align: right;\">\n",
       "      <th></th>\n",
       "      <th>CreditScore</th>\n",
       "      <th>Age</th>\n",
       "      <th>Tenure</th>\n",
       "      <th>Balance</th>\n",
       "      <th>NumOfProducts</th>\n",
       "      <th>EstimatedSalary</th>\n",
       "      <th>Geography_Germany</th>\n",
       "      <th>Geography_Spain</th>\n",
       "      <th>Gender_Male</th>\n",
       "      <th>HasCrCard_1</th>\n",
       "      <th>IsActiveMember_1</th>\n",
       "    </tr>\n",
       "  </thead>\n",
       "  <tbody>\n",
       "    <tr>\n",
       "      <th>0</th>\n",
       "      <td>567</td>\n",
       "      <td>35</td>\n",
       "      <td>8</td>\n",
       "      <td>153137.74</td>\n",
       "      <td>1</td>\n",
       "      <td>88659.07</td>\n",
       "      <td>0.0</td>\n",
       "      <td>1.0</td>\n",
       "      <td>1.0</td>\n",
       "      <td>1.0</td>\n",
       "      <td>0.0</td>\n",
       "    </tr>\n",
       "    <tr>\n",
       "      <th>1</th>\n",
       "      <td>711</td>\n",
       "      <td>37</td>\n",
       "      <td>8</td>\n",
       "      <td>113899.92</td>\n",
       "      <td>1</td>\n",
       "      <td>80215.20</td>\n",
       "      <td>0.0</td>\n",
       "      <td>0.0</td>\n",
       "      <td>0.0</td>\n",
       "      <td>0.0</td>\n",
       "      <td>0.0</td>\n",
       "    </tr>\n",
       "    <tr>\n",
       "      <th>2</th>\n",
       "      <td>850</td>\n",
       "      <td>44</td>\n",
       "      <td>3</td>\n",
       "      <td>140393.65</td>\n",
       "      <td>2</td>\n",
       "      <td>186285.52</td>\n",
       "      <td>1.0</td>\n",
       "      <td>0.0</td>\n",
       "      <td>1.0</td>\n",
       "      <td>0.0</td>\n",
       "      <td>1.0</td>\n",
       "    </tr>\n",
       "    <tr>\n",
       "      <th>3</th>\n",
       "      <td>512</td>\n",
       "      <td>24</td>\n",
       "      <td>6</td>\n",
       "      <td>0.00</td>\n",
       "      <td>2</td>\n",
       "      <td>37654.31</td>\n",
       "      <td>0.0</td>\n",
       "      <td>0.0</td>\n",
       "      <td>1.0</td>\n",
       "      <td>1.0</td>\n",
       "      <td>0.0</td>\n",
       "    </tr>\n",
       "    <tr>\n",
       "      <th>4</th>\n",
       "      <td>665</td>\n",
       "      <td>27</td>\n",
       "      <td>2</td>\n",
       "      <td>147435.96</td>\n",
       "      <td>1</td>\n",
       "      <td>187508.06</td>\n",
       "      <td>1.0</td>\n",
       "      <td>0.0</td>\n",
       "      <td>0.0</td>\n",
       "      <td>0.0</td>\n",
       "      <td>0.0</td>\n",
       "    </tr>\n",
       "    <tr>\n",
       "      <th>...</th>\n",
       "      <td>...</td>\n",
       "      <td>...</td>\n",
       "      <td>...</td>\n",
       "      <td>...</td>\n",
       "      <td>...</td>\n",
       "      <td>...</td>\n",
       "      <td>...</td>\n",
       "      <td>...</td>\n",
       "      <td>...</td>\n",
       "      <td>...</td>\n",
       "      <td>...</td>\n",
       "    </tr>\n",
       "    <tr>\n",
       "      <th>5995</th>\n",
       "      <td>549</td>\n",
       "      <td>31</td>\n",
       "      <td>4</td>\n",
       "      <td>0.00</td>\n",
       "      <td>2</td>\n",
       "      <td>25684.85</td>\n",
       "      <td>0.0</td>\n",
       "      <td>0.0</td>\n",
       "      <td>1.0</td>\n",
       "      <td>0.0</td>\n",
       "      <td>1.0</td>\n",
       "    </tr>\n",
       "    <tr>\n",
       "      <th>5996</th>\n",
       "      <td>513</td>\n",
       "      <td>29</td>\n",
       "      <td>10</td>\n",
       "      <td>0.00</td>\n",
       "      <td>2</td>\n",
       "      <td>25514.77</td>\n",
       "      <td>0.0</td>\n",
       "      <td>0.0</td>\n",
       "      <td>1.0</td>\n",
       "      <td>0.0</td>\n",
       "      <td>1.0</td>\n",
       "    </tr>\n",
       "    <tr>\n",
       "      <th>5997</th>\n",
       "      <td>655</td>\n",
       "      <td>45</td>\n",
       "      <td>5</td>\n",
       "      <td>57327.04</td>\n",
       "      <td>1</td>\n",
       "      <td>47349.00</td>\n",
       "      <td>0.0</td>\n",
       "      <td>0.0</td>\n",
       "      <td>0.0</td>\n",
       "      <td>0.0</td>\n",
       "      <td>1.0</td>\n",
       "    </tr>\n",
       "    <tr>\n",
       "      <th>5998</th>\n",
       "      <td>667</td>\n",
       "      <td>24</td>\n",
       "      <td>4</td>\n",
       "      <td>0.00</td>\n",
       "      <td>2</td>\n",
       "      <td>34335.55</td>\n",
       "      <td>0.0</td>\n",
       "      <td>0.0</td>\n",
       "      <td>0.0</td>\n",
       "      <td>0.0</td>\n",
       "      <td>1.0</td>\n",
       "    </tr>\n",
       "    <tr>\n",
       "      <th>5999</th>\n",
       "      <td>691</td>\n",
       "      <td>38</td>\n",
       "      <td>1</td>\n",
       "      <td>0.00</td>\n",
       "      <td>2</td>\n",
       "      <td>44653.50</td>\n",
       "      <td>0.0</td>\n",
       "      <td>0.0</td>\n",
       "      <td>1.0</td>\n",
       "      <td>0.0</td>\n",
       "      <td>0.0</td>\n",
       "    </tr>\n",
       "  </tbody>\n",
       "</table>\n",
       "<p>6000 rows × 11 columns</p>\n",
       "</div>"
      ],
      "text/plain": [
       "      CreditScore  Age  Tenure    Balance  NumOfProducts  EstimatedSalary  \\\n",
       "0             567   35       8  153137.74              1         88659.07   \n",
       "1             711   37       8  113899.92              1         80215.20   \n",
       "2             850   44       3  140393.65              2        186285.52   \n",
       "3             512   24       6       0.00              2         37654.31   \n",
       "4             665   27       2  147435.96              1        187508.06   \n",
       "...           ...  ...     ...        ...            ...              ...   \n",
       "5995          549   31       4       0.00              2         25684.85   \n",
       "5996          513   29      10       0.00              2         25514.77   \n",
       "5997          655   45       5   57327.04              1         47349.00   \n",
       "5998          667   24       4       0.00              2         34335.55   \n",
       "5999          691   38       1       0.00              2         44653.50   \n",
       "\n",
       "      Geography_Germany  Geography_Spain  Gender_Male  HasCrCard_1  \\\n",
       "0                   0.0              1.0          1.0          1.0   \n",
       "1                   0.0              0.0          0.0          0.0   \n",
       "2                   1.0              0.0          1.0          0.0   \n",
       "3                   0.0              0.0          1.0          1.0   \n",
       "4                   1.0              0.0          0.0          0.0   \n",
       "...                 ...              ...          ...          ...   \n",
       "5995                0.0              0.0          1.0          0.0   \n",
       "5996                0.0              0.0          1.0          0.0   \n",
       "5997                0.0              0.0          0.0          0.0   \n",
       "5998                0.0              0.0          0.0          0.0   \n",
       "5999                0.0              0.0          1.0          0.0   \n",
       "\n",
       "      IsActiveMember_1  \n",
       "0                  0.0  \n",
       "1                  0.0  \n",
       "2                  1.0  \n",
       "3                  0.0  \n",
       "4                  0.0  \n",
       "...                ...  \n",
       "5995               1.0  \n",
       "5996               1.0  \n",
       "5997               1.0  \n",
       "5998               1.0  \n",
       "5999               0.0  \n",
       "\n",
       "[6000 rows x 11 columns]"
      ]
     },
     "execution_count": 116,
     "metadata": {},
     "output_type": "execute_result"
    }
   ],
   "source": [
    "features_train_ohe"
   ]
  },
  {
   "cell_type": "code",
   "execution_count": 117,
   "id": "d4d46452",
   "metadata": {},
   "outputs": [
    {
     "data": {
      "text/html": [
       "<div>\n",
       "<style scoped>\n",
       "    .dataframe tbody tr th:only-of-type {\n",
       "        vertical-align: middle;\n",
       "    }\n",
       "\n",
       "    .dataframe tbody tr th {\n",
       "        vertical-align: top;\n",
       "    }\n",
       "\n",
       "    .dataframe thead th {\n",
       "        text-align: right;\n",
       "    }\n",
       "</style>\n",
       "<table border=\"1\" class=\"dataframe\">\n",
       "  <thead>\n",
       "    <tr style=\"text-align: right;\">\n",
       "      <th></th>\n",
       "      <th>CreditScore</th>\n",
       "      <th>Age</th>\n",
       "      <th>Tenure</th>\n",
       "      <th>Balance</th>\n",
       "      <th>NumOfProducts</th>\n",
       "      <th>EstimatedSalary</th>\n",
       "      <th>Geography_Germany</th>\n",
       "      <th>Geography_Spain</th>\n",
       "      <th>Gender_Male</th>\n",
       "      <th>HasCrCard_1</th>\n",
       "      <th>IsActiveMember_1</th>\n",
       "    </tr>\n",
       "  </thead>\n",
       "  <tbody>\n",
       "    <tr>\n",
       "      <th>0</th>\n",
       "      <td>-0.886751</td>\n",
       "      <td>-0.373192</td>\n",
       "      <td>1.082277</td>\n",
       "      <td>1.232271</td>\n",
       "      <td>-0.891560</td>\n",
       "      <td>-0.187705</td>\n",
       "      <td>0.0</td>\n",
       "      <td>1.0</td>\n",
       "      <td>1.0</td>\n",
       "      <td>1.0</td>\n",
       "      <td>0.0</td>\n",
       "    </tr>\n",
       "    <tr>\n",
       "      <th>1</th>\n",
       "      <td>0.608663</td>\n",
       "      <td>-0.183385</td>\n",
       "      <td>1.082277</td>\n",
       "      <td>0.600563</td>\n",
       "      <td>-0.891560</td>\n",
       "      <td>-0.333945</td>\n",
       "      <td>0.0</td>\n",
       "      <td>0.0</td>\n",
       "      <td>0.0</td>\n",
       "      <td>0.0</td>\n",
       "      <td>0.0</td>\n",
       "    </tr>\n",
       "    <tr>\n",
       "      <th>2</th>\n",
       "      <td>2.052152</td>\n",
       "      <td>0.480939</td>\n",
       "      <td>-0.737696</td>\n",
       "      <td>1.027098</td>\n",
       "      <td>0.830152</td>\n",
       "      <td>1.503095</td>\n",
       "      <td>1.0</td>\n",
       "      <td>0.0</td>\n",
       "      <td>1.0</td>\n",
       "      <td>0.0</td>\n",
       "      <td>1.0</td>\n",
       "    </tr>\n",
       "    <tr>\n",
       "      <th>3</th>\n",
       "      <td>-1.457915</td>\n",
       "      <td>-1.417129</td>\n",
       "      <td>0.354288</td>\n",
       "      <td>-1.233163</td>\n",
       "      <td>0.830152</td>\n",
       "      <td>-1.071061</td>\n",
       "      <td>0.0</td>\n",
       "      <td>0.0</td>\n",
       "      <td>1.0</td>\n",
       "      <td>1.0</td>\n",
       "      <td>0.0</td>\n",
       "    </tr>\n",
       "    <tr>\n",
       "      <th>4</th>\n",
       "      <td>0.130961</td>\n",
       "      <td>-1.132419</td>\n",
       "      <td>-1.101690</td>\n",
       "      <td>1.140475</td>\n",
       "      <td>-0.891560</td>\n",
       "      <td>1.524268</td>\n",
       "      <td>1.0</td>\n",
       "      <td>0.0</td>\n",
       "      <td>0.0</td>\n",
       "      <td>0.0</td>\n",
       "      <td>0.0</td>\n",
       "    </tr>\n",
       "  </tbody>\n",
       "</table>\n",
       "</div>"
      ],
      "text/plain": [
       "   CreditScore       Age    Tenure   Balance  NumOfProducts  EstimatedSalary  \\\n",
       "0    -0.886751 -0.373192  1.082277  1.232271      -0.891560        -0.187705   \n",
       "1     0.608663 -0.183385  1.082277  0.600563      -0.891560        -0.333945   \n",
       "2     2.052152  0.480939 -0.737696  1.027098       0.830152         1.503095   \n",
       "3    -1.457915 -1.417129  0.354288 -1.233163       0.830152        -1.071061   \n",
       "4     0.130961 -1.132419 -1.101690  1.140475      -0.891560         1.524268   \n",
       "\n",
       "   Geography_Germany  Geography_Spain  Gender_Male  HasCrCard_1  \\\n",
       "0                0.0              1.0          1.0          1.0   \n",
       "1                0.0              0.0          0.0          0.0   \n",
       "2                1.0              0.0          1.0          0.0   \n",
       "3                0.0              0.0          1.0          1.0   \n",
       "4                1.0              0.0          0.0          0.0   \n",
       "\n",
       "   IsActiveMember_1  \n",
       "0               0.0  \n",
       "1               0.0  \n",
       "2               1.0  \n",
       "3               0.0  \n",
       "4               0.0  "
      ]
     },
     "execution_count": 117,
     "metadata": {},
     "output_type": "execute_result"
    }
   ],
   "source": [
    "# стандартизация числовых признаков для логистической регрессии\n",
    "scaler = StandardScaler()\n",
    "scaler.fit(features_train_ohe[numeric])\n",
    "features_train_ohe[numeric] = scaler.transform(features_train_ohe[numeric])\n",
    "features_valid_ohe[numeric] = scaler.transform(features_valid_ohe[numeric])\n",
    "features_test_ohe[numeric] = scaler.transform(features_test_ohe[numeric])\n",
    "\n",
    "features_train_ohe.head()"
   ]
  },
  {
   "cell_type": "code",
   "execution_count": 118,
   "id": "d930e7dd",
   "metadata": {},
   "outputs": [
    {
     "name": "stdout",
     "output_type": "stream",
     "text": [
      "(6000, 11)\n",
      "(6000,)\n",
      "(2000, 11)\n",
      "(2000,)\n",
      "(2000, 11)\n",
      "(2000,)\n"
     ]
    }
   ],
   "source": [
    "print(features_train_ohe.shape)\n",
    "print(target_train.shape)\n",
    "print(features_valid_ohe.shape)\n",
    "print(target_valid.shape)\n",
    "print(features_test_ohe.shape)\n",
    "print(target_test.shape) "
   ]
  },
  {
   "cell_type": "code",
   "execution_count": 119,
   "id": "ef3695f1",
   "metadata": {},
   "outputs": [],
   "source": [
    "# порядковое кодирование категориальных признаков для деревянных моделей\n",
    "encoder = OrdinalEncoder(handle_unknown = 'use_encoded_value', unknown_value=-1)\n",
    "encoder.fit(features_train) \n",
    "features_train_ordinal = pd.DataFrame(encoder.transform(features_train), columns=features_train.columns)\n",
    "features_valid_ordinal = pd.DataFrame(encoder.transform(features_valid), columns=features_valid.columns) \n",
    "features_test_ordinal = pd.DataFrame(encoder.transform(features_test), columns=features_test.columns) "
   ]
  },
  {
   "cell_type": "code",
   "execution_count": 120,
   "id": "a3956162",
   "metadata": {},
   "outputs": [
    {
     "data": {
      "text/html": [
       "<div>\n",
       "<style scoped>\n",
       "    .dataframe tbody tr th:only-of-type {\n",
       "        vertical-align: middle;\n",
       "    }\n",
       "\n",
       "    .dataframe tbody tr th {\n",
       "        vertical-align: top;\n",
       "    }\n",
       "\n",
       "    .dataframe thead th {\n",
       "        text-align: right;\n",
       "    }\n",
       "</style>\n",
       "<table border=\"1\" class=\"dataframe\">\n",
       "  <thead>\n",
       "    <tr style=\"text-align: right;\">\n",
       "      <th></th>\n",
       "      <th>CreditScore</th>\n",
       "      <th>Geography</th>\n",
       "      <th>Gender</th>\n",
       "      <th>Age</th>\n",
       "      <th>Tenure</th>\n",
       "      <th>Balance</th>\n",
       "      <th>NumOfProducts</th>\n",
       "      <th>HasCrCard</th>\n",
       "      <th>IsActiveMember</th>\n",
       "      <th>EstimatedSalary</th>\n",
       "    </tr>\n",
       "  </thead>\n",
       "  <tbody>\n",
       "    <tr>\n",
       "      <th>0</th>\n",
       "      <td>164.0</td>\n",
       "      <td>2.0</td>\n",
       "      <td>1.0</td>\n",
       "      <td>17.0</td>\n",
       "      <td>8.0</td>\n",
       "      <td>3357.0</td>\n",
       "      <td>0.0</td>\n",
       "      <td>1.0</td>\n",
       "      <td>0.0</td>\n",
       "      <td>2670.0</td>\n",
       "    </tr>\n",
       "    <tr>\n",
       "      <th>1</th>\n",
       "      <td>308.0</td>\n",
       "      <td>0.0</td>\n",
       "      <td>0.0</td>\n",
       "      <td>19.0</td>\n",
       "      <td>8.0</td>\n",
       "      <td>1652.0</td>\n",
       "      <td>0.0</td>\n",
       "      <td>0.0</td>\n",
       "      <td>0.0</td>\n",
       "      <td>2425.0</td>\n",
       "    </tr>\n",
       "    <tr>\n",
       "      <th>2</th>\n",
       "      <td>447.0</td>\n",
       "      <td>1.0</td>\n",
       "      <td>1.0</td>\n",
       "      <td>26.0</td>\n",
       "      <td>3.0</td>\n",
       "      <td>2948.0</td>\n",
       "      <td>1.0</td>\n",
       "      <td>0.0</td>\n",
       "      <td>1.0</td>\n",
       "      <td>5587.0</td>\n",
       "    </tr>\n",
       "    <tr>\n",
       "      <th>3</th>\n",
       "      <td>109.0</td>\n",
       "      <td>0.0</td>\n",
       "      <td>1.0</td>\n",
       "      <td>6.0</td>\n",
       "      <td>6.0</td>\n",
       "      <td>0.0</td>\n",
       "      <td>1.0</td>\n",
       "      <td>1.0</td>\n",
       "      <td>0.0</td>\n",
       "      <td>1141.0</td>\n",
       "    </tr>\n",
       "    <tr>\n",
       "      <th>4</th>\n",
       "      <td>262.0</td>\n",
       "      <td>1.0</td>\n",
       "      <td>0.0</td>\n",
       "      <td>9.0</td>\n",
       "      <td>2.0</td>\n",
       "      <td>3186.0</td>\n",
       "      <td>0.0</td>\n",
       "      <td>0.0</td>\n",
       "      <td>0.0</td>\n",
       "      <td>5607.0</td>\n",
       "    </tr>\n",
       "  </tbody>\n",
       "</table>\n",
       "</div>"
      ],
      "text/plain": [
       "   CreditScore  Geography  Gender   Age  Tenure  Balance  NumOfProducts  \\\n",
       "0        164.0        2.0     1.0  17.0     8.0   3357.0            0.0   \n",
       "1        308.0        0.0     0.0  19.0     8.0   1652.0            0.0   \n",
       "2        447.0        1.0     1.0  26.0     3.0   2948.0            1.0   \n",
       "3        109.0        0.0     1.0   6.0     6.0      0.0            1.0   \n",
       "4        262.0        1.0     0.0   9.0     2.0   3186.0            0.0   \n",
       "\n",
       "   HasCrCard  IsActiveMember  EstimatedSalary  \n",
       "0        1.0             0.0           2670.0  \n",
       "1        0.0             0.0           2425.0  \n",
       "2        0.0             1.0           5587.0  \n",
       "3        1.0             0.0           1141.0  \n",
       "4        0.0             0.0           5607.0  "
      ]
     },
     "execution_count": 120,
     "metadata": {},
     "output_type": "execute_result"
    }
   ],
   "source": [
    "features_train_ordinal.head()"
   ]
  },
  {
   "cell_type": "markdown",
   "id": "cca63917",
   "metadata": {},
   "source": [
    "Признаки готовы к обучению."
   ]
  },
  {
   "cell_type": "markdown",
   "id": "9ba5c840",
   "metadata": {},
   "source": [
    "## Исследование задачи"
   ]
  },
  {
   "cell_type": "markdown",
   "id": "be4b56db",
   "metadata": {},
   "source": [
    "### Логистическая регрессия"
   ]
  },
  {
   "cell_type": "code",
   "execution_count": 121,
   "id": "52529d3d",
   "metadata": {},
   "outputs": [
    {
     "name": "stdout",
     "output_type": "stream",
     "text": [
      "F1: 0.33108108108108103\n",
      "Матрица ошибок:\n",
      " [[1506   76]\n",
      " [ 320   98]]\n"
     ]
    }
   ],
   "source": [
    "# обучим модель логистической регрессии и найдём значение F1 меры\n",
    "model = LogisticRegression(random_state=12345, solver='liblinear')\n",
    "model.fit(features_train_ohe, target_train)\n",
    "predicted_valid = model.predict(features_valid_ohe)\n",
    "\n",
    "print('F1:', f1_score(target_valid, predicted_valid))\n",
    "print('Матрица ошибок:\\n', confusion_matrix(target_valid, predicted_valid))"
   ]
  },
  {
   "cell_type": "markdown",
   "id": "c194f535",
   "metadata": {},
   "source": [
    "### Решающее дерево"
   ]
  },
  {
   "cell_type": "code",
   "execution_count": 122,
   "id": "94b7089d",
   "metadata": {
    "scrolled": false
   },
   "outputs": [
    {
     "name": "stdout",
     "output_type": "stream",
     "text": [
      "F1: 0.5692541856925418\n",
      "Глубина дерева: 6\n"
     ]
    }
   ],
   "source": [
    "# обучим модель решающего дерева и найдём значение F1 меры\n",
    "best_depth = 0\n",
    "best_f1 = 0\n",
    "for depth in range(1, 10):\n",
    "    model = DecisionTreeClassifier(random_state=12345, max_depth=depth)\n",
    "    model.fit(features_train_ohe, target_train)\n",
    "    predicted_valid = model.predict(features_valid_ohe)\n",
    "    f1 = f1_score(target_valid, predicted_valid)\n",
    "    if f1 > best_f1:\n",
    "        best_depth = depth\n",
    "        best_f1 = f1 \n",
    "\n",
    "print('F1:', best_f1)\n",
    "print('Глубина дерева:', best_depth)"
   ]
  },
  {
   "cell_type": "markdown",
   "id": "cbdb02a5",
   "metadata": {},
   "source": [
    "### Случайный лес"
   ]
  },
  {
   "cell_type": "code",
   "execution_count": 123,
   "id": "ee3bd43a",
   "metadata": {
    "scrolled": true
   },
   "outputs": [
    {
     "name": "stdout",
     "output_type": "stream",
     "text": [
      "F1: 0.5888888888888889\n",
      "Глубина дерева: 13\n",
      "Количество деревьев: 7\n",
      "Wall time: 3.14 s\n"
     ]
    }
   ],
   "source": [
    "%%time\n",
    "# обучим модель случайного леса и найдём значение F1 меры\n",
    "best_depth = 0\n",
    "best_est = 0\n",
    "best_f1 = 0\n",
    "\n",
    "for est in range(1, 10):\n",
    "    for depth in range(1, 15):\n",
    "        model = RandomForestClassifier(n_estimators=est, max_depth=depth, random_state=12345)\n",
    "        model.fit(features_train_ohe, target_train)\n",
    "        predicted_valid = model.predict(features_valid_ohe)\n",
    "        f1 = f1_score(target_valid, predicted_valid)\n",
    "        if f1 > best_f1:\n",
    "            best_depth = depth\n",
    "            best_f1 = f1 \n",
    "            best_est = est \n",
    "\n",
    "print('F1:', best_f1)\n",
    "print('Глубина дерева:', best_depth)\n",
    "print('Количество деревьев:', best_est)"
   ]
  },
  {
   "cell_type": "markdown",
   "id": "361decf0",
   "metadata": {},
   "source": [
    "#### Вывод"
   ]
  },
  {
   "cell_type": "markdown",
   "id": "917892be",
   "metadata": {},
   "source": [
    "Без учёта баланса классов были обучены три модели:   \n",
    "Логистическая регрессия: 0.33   \n",
    "Решающее дерево: 0.57  \n",
    "Случайный лес: 0.59  \n",
    "  \n",
    "На данном этапе лучший результат показал случайный лес с глубиной дерева 13 и количеством деревьев 7."
   ]
  },
  {
   "cell_type": "markdown",
   "id": "c94f237d",
   "metadata": {},
   "source": [
    "## Борьба с дисбалансом"
   ]
  },
  {
   "cell_type": "markdown",
   "id": "264ffeda",
   "metadata": {},
   "source": [
    "Проверим баланс классов."
   ]
  },
  {
   "cell_type": "code",
   "execution_count": 124,
   "id": "f389aae7",
   "metadata": {
    "scrolled": true
   },
   "outputs": [
    {
     "name": "stdout",
     "output_type": "stream",
     "text": [
      "0    0.7963\n",
      "1    0.2037\n",
      "Name: Exited, dtype: float64\n"
     ]
    },
    {
     "data": {
      "text/plain": [
       "<AxesSubplot:>"
      ]
     },
     "execution_count": 124,
     "metadata": {},
     "output_type": "execute_result"
    },
    {
     "data": {
      "image/png": "[encoded data removed]",
      "text/plain": [
       "<Figure size 432x288 with 1 Axes>"
      ]
     },
     "metadata": {
      "needs_background": "light"
     },
     "output_type": "display_data"
    }
   ],
   "source": [
    "# подсчёт классов в целевом признаке\n",
    "class_frequency = data['Exited'].value_counts(normalize=True)\n",
    "print(class_frequency)\n",
    "\n",
    "class_frequency.plot(kind='bar')"
   ]
  },
  {
   "cell_type": "markdown",
   "id": "dfb6ef39",
   "metadata": {},
   "source": [
    "В выборке наблюдается дисбаланс: положительных объектов около 20%."
   ]
  },
  {
   "cell_type": "markdown",
   "id": "499fa10a",
   "metadata": {},
   "source": [
    "Для каждой модели применим три техники перебалансировки: взвешивание классов, upsampling, downsampling, и выберем лучший результат."
   ]
  },
  {
   "cell_type": "code",
   "execution_count": 125,
   "id": "0dff087b",
   "metadata": {},
   "outputs": [],
   "source": [
    "# функция увеличения выборки\n",
    "def upsample(features, target, repeat):\n",
    "    features_zeros = features[target == 0]\n",
    "    features_ones = features[target == 1]\n",
    "    target_zeros = target[target == 0]\n",
    "    target_ones = target[target == 1]\n",
    "\n",
    "    features_upsampled = pd.concat([features_zeros] + [features_ones] * repeat)\n",
    "    target_upsampled = pd.concat([target_zeros] + [target_ones] * repeat)\n",
    "    \n",
    "    features_upsampled, target_upsampled = shuffle(\n",
    "        features_upsampled, target_upsampled, random_state=12345)\n",
    "    \n",
    "    return features_upsampled, target_upsampled"
   ]
  },
  {
   "cell_type": "code",
   "execution_count": 126,
   "id": "6e39a0bb",
   "metadata": {},
   "outputs": [],
   "source": [
    "# функция уменьшения выборки\n",
    "def downsample(features, target, fraction):\n",
    "    features_zeros = features[target == 0]\n",
    "    features_ones = features[target == 1]\n",
    "    target_zeros = target[target == 0]\n",
    "    target_ones = target[target == 1]\n",
    "\n",
    "    features_downsampled = pd.concat(\n",
    "        [features_zeros.sample(frac=fraction, random_state=12345)] + [features_ones])\n",
    "    target_downsampled = pd.concat(\n",
    "        [target_zeros.sample(frac=fraction, random_state=12345)] + [target_ones])\n",
    "    \n",
    "    features_downsampled, target_downsampled = shuffle(\n",
    "        features_downsampled, target_downsampled, random_state=12345)\n",
    "    \n",
    "    return features_downsampled, target_downsampled"
   ]
  },
  {
   "cell_type": "markdown",
   "id": "3668bb15",
   "metadata": {},
   "source": [
    "### Логистическая регрессия"
   ]
  },
  {
   "cell_type": "code",
   "execution_count": 127,
   "id": "4f87d7df",
   "metadata": {},
   "outputs": [
    {
     "name": "stdout",
     "output_type": "stream",
     "text": [
      "F1: 0.4888507718696398\n"
     ]
    }
   ],
   "source": [
    "# добавим в логистическую регрессию взвешивание классов и найдём значение F1 меры\n",
    "model = LogisticRegression(random_state=12345, solver='liblinear', class_weight='balanced')\n",
    "model.fit(features_train_ohe, target_train)\n",
    "predicted_valid = model.predict(features_valid_ohe)\n",
    "print(\"F1:\", f1_score(target_valid, predicted_valid))"
   ]
  },
  {
   "cell_type": "markdown",
   "id": "1aee9644",
   "metadata": {},
   "source": [
    "Взвешивание классов в логистической регрессии улучшило F1 метрику с 0.33 до почти 0.49."
   ]
  },
  {
   "cell_type": "code",
   "execution_count": 128,
   "id": "fcddc726",
   "metadata": {},
   "outputs": [
    {
     "data": {
      "text/html": [
       "<div>\n",
       "<style scoped>\n",
       "    .dataframe tbody tr th:only-of-type {\n",
       "        vertical-align: middle;\n",
       "    }\n",
       "\n",
       "    .dataframe tbody tr th {\n",
       "        vertical-align: top;\n",
       "    }\n",
       "\n",
       "    .dataframe thead th {\n",
       "        text-align: right;\n",
       "    }\n",
       "</style>\n",
       "<table border=\"1\" class=\"dataframe\">\n",
       "  <thead>\n",
       "    <tr style=\"text-align: right;\">\n",
       "      <th></th>\n",
       "      <th>CreditScore</th>\n",
       "      <th>Age</th>\n",
       "      <th>Tenure</th>\n",
       "      <th>Balance</th>\n",
       "      <th>NumOfProducts</th>\n",
       "      <th>EstimatedSalary</th>\n",
       "      <th>Geography_Germany</th>\n",
       "      <th>Geography_Spain</th>\n",
       "      <th>Gender_Male</th>\n",
       "      <th>HasCrCard_1</th>\n",
       "      <th>IsActiveMember_1</th>\n",
       "    </tr>\n",
       "  </thead>\n",
       "  <tbody>\n",
       "    <tr>\n",
       "      <th>0</th>\n",
       "      <td>-0.886751</td>\n",
       "      <td>-0.373192</td>\n",
       "      <td>1.082277</td>\n",
       "      <td>1.232271</td>\n",
       "      <td>-0.891560</td>\n",
       "      <td>-0.187705</td>\n",
       "      <td>0.0</td>\n",
       "      <td>1.0</td>\n",
       "      <td>1.0</td>\n",
       "      <td>1.0</td>\n",
       "      <td>0.0</td>\n",
       "    </tr>\n",
       "    <tr>\n",
       "      <th>1</th>\n",
       "      <td>0.608663</td>\n",
       "      <td>-0.183385</td>\n",
       "      <td>1.082277</td>\n",
       "      <td>0.600563</td>\n",
       "      <td>-0.891560</td>\n",
       "      <td>-0.333945</td>\n",
       "      <td>0.0</td>\n",
       "      <td>0.0</td>\n",
       "      <td>0.0</td>\n",
       "      <td>0.0</td>\n",
       "      <td>0.0</td>\n",
       "    </tr>\n",
       "    <tr>\n",
       "      <th>2</th>\n",
       "      <td>2.052152</td>\n",
       "      <td>0.480939</td>\n",
       "      <td>-0.737696</td>\n",
       "      <td>1.027098</td>\n",
       "      <td>0.830152</td>\n",
       "      <td>1.503095</td>\n",
       "      <td>1.0</td>\n",
       "      <td>0.0</td>\n",
       "      <td>1.0</td>\n",
       "      <td>0.0</td>\n",
       "      <td>1.0</td>\n",
       "    </tr>\n",
       "    <tr>\n",
       "      <th>3</th>\n",
       "      <td>-1.457915</td>\n",
       "      <td>-1.417129</td>\n",
       "      <td>0.354288</td>\n",
       "      <td>-1.233163</td>\n",
       "      <td>0.830152</td>\n",
       "      <td>-1.071061</td>\n",
       "      <td>0.0</td>\n",
       "      <td>0.0</td>\n",
       "      <td>1.0</td>\n",
       "      <td>1.0</td>\n",
       "      <td>0.0</td>\n",
       "    </tr>\n",
       "    <tr>\n",
       "      <th>4</th>\n",
       "      <td>0.130961</td>\n",
       "      <td>-1.132419</td>\n",
       "      <td>-1.101690</td>\n",
       "      <td>1.140475</td>\n",
       "      <td>-0.891560</td>\n",
       "      <td>1.524268</td>\n",
       "      <td>1.0</td>\n",
       "      <td>0.0</td>\n",
       "      <td>0.0</td>\n",
       "      <td>0.0</td>\n",
       "      <td>0.0</td>\n",
       "    </tr>\n",
       "    <tr>\n",
       "      <th>...</th>\n",
       "      <td>...</td>\n",
       "      <td>...</td>\n",
       "      <td>...</td>\n",
       "      <td>...</td>\n",
       "      <td>...</td>\n",
       "      <td>...</td>\n",
       "      <td>...</td>\n",
       "      <td>...</td>\n",
       "      <td>...</td>\n",
       "      <td>...</td>\n",
       "      <td>...</td>\n",
       "    </tr>\n",
       "    <tr>\n",
       "      <th>5995</th>\n",
       "      <td>-1.073677</td>\n",
       "      <td>-0.752805</td>\n",
       "      <td>-0.373701</td>\n",
       "      <td>-1.233163</td>\n",
       "      <td>0.830152</td>\n",
       "      <td>-1.278361</td>\n",
       "      <td>0.0</td>\n",
       "      <td>0.0</td>\n",
       "      <td>1.0</td>\n",
       "      <td>0.0</td>\n",
       "      <td>1.0</td>\n",
       "    </tr>\n",
       "    <tr>\n",
       "      <th>5996</th>\n",
       "      <td>-1.447531</td>\n",
       "      <td>-0.942612</td>\n",
       "      <td>1.810266</td>\n",
       "      <td>-1.233163</td>\n",
       "      <td>0.830152</td>\n",
       "      <td>-1.281307</td>\n",
       "      <td>0.0</td>\n",
       "      <td>0.0</td>\n",
       "      <td>1.0</td>\n",
       "      <td>0.0</td>\n",
       "      <td>1.0</td>\n",
       "    </tr>\n",
       "    <tr>\n",
       "      <th>5997</th>\n",
       "      <td>0.027113</td>\n",
       "      <td>0.575842</td>\n",
       "      <td>-0.009707</td>\n",
       "      <td>-0.310229</td>\n",
       "      <td>-0.891560</td>\n",
       "      <td>-0.903158</td>\n",
       "      <td>0.0</td>\n",
       "      <td>0.0</td>\n",
       "      <td>0.0</td>\n",
       "      <td>0.0</td>\n",
       "      <td>1.0</td>\n",
       "    </tr>\n",
       "    <tr>\n",
       "      <th>5998</th>\n",
       "      <td>0.151731</td>\n",
       "      <td>-1.417129</td>\n",
       "      <td>-0.373701</td>\n",
       "      <td>-1.233163</td>\n",
       "      <td>0.830152</td>\n",
       "      <td>-1.128539</td>\n",
       "      <td>0.0</td>\n",
       "      <td>0.0</td>\n",
       "      <td>0.0</td>\n",
       "      <td>0.0</td>\n",
       "      <td>1.0</td>\n",
       "    </tr>\n",
       "    <tr>\n",
       "      <th>5999</th>\n",
       "      <td>0.400966</td>\n",
       "      <td>-0.088482</td>\n",
       "      <td>-1.465685</td>\n",
       "      <td>-1.233163</td>\n",
       "      <td>0.830152</td>\n",
       "      <td>-0.949841</td>\n",
       "      <td>0.0</td>\n",
       "      <td>0.0</td>\n",
       "      <td>1.0</td>\n",
       "      <td>0.0</td>\n",
       "      <td>0.0</td>\n",
       "    </tr>\n",
       "  </tbody>\n",
       "</table>\n",
       "<p>6000 rows × 11 columns</p>\n",
       "</div>"
      ],
      "text/plain": [
       "      CreditScore       Age    Tenure   Balance  NumOfProducts  \\\n",
       "0       -0.886751 -0.373192  1.082277  1.232271      -0.891560   \n",
       "1        0.608663 -0.183385  1.082277  0.600563      -0.891560   \n",
       "2        2.052152  0.480939 -0.737696  1.027098       0.830152   \n",
       "3       -1.457915 -1.417129  0.354288 -1.233163       0.830152   \n",
       "4        0.130961 -1.132419 -1.101690  1.140475      -0.891560   \n",
       "...           ...       ...       ...       ...            ...   \n",
       "5995    -1.073677 -0.752805 -0.373701 -1.233163       0.830152   \n",
       "5996    -1.447531 -0.942612  1.810266 -1.233163       0.830152   \n",
       "5997     0.027113  0.575842 -0.009707 -0.310229      -0.891560   \n",
       "5998     0.151731 -1.417129 -0.373701 -1.233163       0.830152   \n",
       "5999     0.400966 -0.088482 -1.465685 -1.233163       0.830152   \n",
       "\n",
       "      EstimatedSalary  Geography_Germany  Geography_Spain  Gender_Male  \\\n",
       "0           -0.187705                0.0              1.0          1.0   \n",
       "1           -0.333945                0.0              0.0          0.0   \n",
       "2            1.503095                1.0              0.0          1.0   \n",
       "3           -1.071061                0.0              0.0          1.0   \n",
       "4            1.524268                1.0              0.0          0.0   \n",
       "...               ...                ...              ...          ...   \n",
       "5995        -1.278361                0.0              0.0          1.0   \n",
       "5996        -1.281307                0.0              0.0          1.0   \n",
       "5997        -0.903158                0.0              0.0          0.0   \n",
       "5998        -1.128539                0.0              0.0          0.0   \n",
       "5999        -0.949841                0.0              0.0          1.0   \n",
       "\n",
       "      HasCrCard_1  IsActiveMember_1  \n",
       "0             1.0               0.0  \n",
       "1             0.0               0.0  \n",
       "2             0.0               1.0  \n",
       "3             1.0               0.0  \n",
       "4             0.0               0.0  \n",
       "...           ...               ...  \n",
       "5995          0.0               1.0  \n",
       "5996          0.0               1.0  \n",
       "5997          0.0               1.0  \n",
       "5998          0.0               1.0  \n",
       "5999          0.0               0.0  \n",
       "\n",
       "[6000 rows x 11 columns]"
      ]
     },
     "execution_count": 128,
     "metadata": {},
     "output_type": "execute_result"
    }
   ],
   "source": [
    "features_train_ohe"
   ]
  },
  {
   "cell_type": "code",
   "execution_count": 129,
   "id": "fb23ad32",
   "metadata": {},
   "outputs": [],
   "source": [
    "target_train = target_train.reset_index(drop=True)"
   ]
  },
  {
   "cell_type": "code",
   "execution_count": 130,
   "id": "29b4cbcb",
   "metadata": {},
   "outputs": [
    {
     "name": "stdout",
     "output_type": "stream",
     "text": [
      "F1: 0.5\n"
     ]
    }
   ],
   "source": [
    "# применим к логистической регрессии технику upsampling и найдём значение F1 меры\n",
    "features_upsampled, target_upsampled = upsample(features_train_ohe, target_train, 3)\n",
    "\n",
    "model = LogisticRegression(random_state=12345, solver='liblinear')\n",
    "model.fit(features_upsampled, target_upsampled)\n",
    "predicted_valid = model.predict(features_valid_ohe)\n",
    "\n",
    "print(\"F1:\", f1_score(target_valid, predicted_valid))"
   ]
  },
  {
   "cell_type": "markdown",
   "id": "15cc8f4a",
   "metadata": {},
   "source": [
    "С помощью техники upsampling значение F1 метрики удалось поднять до 0.5."
   ]
  },
  {
   "cell_type": "code",
   "execution_count": 131,
   "id": "a3077e24",
   "metadata": {},
   "outputs": [
    {
     "name": "stdout",
     "output_type": "stream",
     "text": [
      "F1: 0.504875406283857\n"
     ]
    }
   ],
   "source": [
    "# применим к логистической регрессии технику downsampling и найдём значение F1 меры\n",
    "features_downsampled, target_downsampled = downsample(features_train_ohe, target_train, 0.4)\n",
    "\n",
    "model = LogisticRegression(random_state=12345, solver='liblinear')\n",
    "model.fit(features_downsampled, target_downsampled)\n",
    "predicted_valid = model.predict(features_valid_ohe)\n",
    "print(\"F1:\", f1_score(target_valid, predicted_valid))"
   ]
  },
  {
   "cell_type": "markdown",
   "id": "adae3033",
   "metadata": {},
   "source": [
    "С помощью техники downsampling F1 метрику удалось улучшить ещё на тысячные доли."
   ]
  },
  {
   "cell_type": "markdown",
   "id": "4863ccf5",
   "metadata": {},
   "source": [
    "Попробуем менять порог классификации."
   ]
  },
  {
   "cell_type": "code",
   "execution_count": 132,
   "id": "2b905692",
   "metadata": {},
   "outputs": [
    {
     "name": "stdout",
     "output_type": "stream",
     "text": [
      "Вероятность положительного класса первых пяти объектов: [0.32088589 0.2883222  0.39507869 0.23447781 0.34328035]\n",
      "Средняя вероятность положительного класса: 0.35275065050131743\n"
     ]
    }
   ],
   "source": [
    "# рассчитываем вероятности положительного класса\n",
    "probabilities_valid = model.predict_proba(features_valid_ohe)\n",
    "probabilities_one_valid = probabilities_valid[:,1]\n",
    "print('Вероятность положительного класса первых пяти объектов:', probabilities_one_valid[:5])\n",
    "print('Средняя вероятность положительного класса:', probabilities_one_valid.mean())"
   ]
  },
  {
   "cell_type": "code",
   "execution_count": 133,
   "id": "3333fc3d",
   "metadata": {},
   "outputs": [
    {
     "name": "stdout",
     "output_type": "stream",
     "text": [
      "Порог = 0.00 | Точность = 0.209, Полнота = 1.000, F1 = 0.346\n",
      "Порог = 0.02 | Точность = 0.209, Полнота = 1.000, F1 = 0.346\n",
      "Порог = 0.04 | Точность = 0.210, Полнота = 1.000, F1 = 0.347\n",
      "Порог = 0.06 | Точность = 0.214, Полнота = 1.000, F1 = 0.353\n",
      "Порог = 0.08 | Точность = 0.221, Полнота = 0.995, F1 = 0.361\n",
      "Порог = 0.10 | Точность = 0.229, Полнота = 0.990, F1 = 0.372\n",
      "Порог = 0.12 | Точность = 0.235, Полнота = 0.976, F1 = 0.379\n",
      "Порог = 0.14 | Точность = 0.245, Полнота = 0.964, F1 = 0.391\n",
      "Порог = 0.16 | Точность = 0.252, Полнота = 0.938, F1 = 0.397\n",
      "Порог = 0.18 | Точность = 0.262, Полнота = 0.931, F1 = 0.409\n",
      "Порог = 0.20 | Точность = 0.273, Полнота = 0.916, F1 = 0.420\n",
      "Порог = 0.22 | Точность = 0.282, Полнота = 0.890, F1 = 0.428\n",
      "Порог = 0.24 | Точность = 0.291, Полнота = 0.876, F1 = 0.437\n",
      "Порог = 0.26 | Точность = 0.306, Полнота = 0.849, F1 = 0.450\n",
      "Порог = 0.28 | Точность = 0.325, Полнота = 0.842, F1 = 0.469\n",
      "Порог = 0.30 | Точность = 0.336, Полнота = 0.821, F1 = 0.477\n",
      "Порог = 0.32 | Точность = 0.348, Полнота = 0.782, F1 = 0.481\n",
      "Порог = 0.34 | Точность = 0.356, Полнота = 0.737, F1 = 0.480\n",
      "Порог = 0.36 | Точность = 0.366, Полнота = 0.706, F1 = 0.482\n",
      "Порог = 0.38 | Точность = 0.377, Полнота = 0.687, F1 = 0.487\n",
      "Порог = 0.40 | Точность = 0.391, Полнота = 0.663, F1 = 0.492\n",
      "Порог = 0.42 | Точность = 0.402, Полнота = 0.629, F1 = 0.490\n",
      "Порог = 0.44 | Точность = 0.416, Полнота = 0.610, F1 = 0.495\n",
      "Порог = 0.46 | Точность = 0.432, Полнота = 0.596, F1 = 0.501\n",
      "Порог = 0.48 | Точность = 0.441, Полнота = 0.565, F1 = 0.495\n",
      "Порог = 0.50 | Точность = 0.461, Полнота = 0.557, F1 = 0.505\n",
      "Порог = 0.52 | Точность = 0.473, Полнота = 0.517, F1 = 0.494\n",
      "Порог = 0.54 | Точность = 0.477, Полнота = 0.481, F1 = 0.479\n",
      "Порог = 0.56 | Точность = 0.483, Полнота = 0.445, F1 = 0.463\n",
      "Порог = 0.58 | Точность = 0.489, Полнота = 0.419, F1 = 0.451\n"
     ]
    }
   ],
   "source": [
    "# перебираем значение порога и для каждого находим точность, полноту и F1-меру\n",
    "for threshold in np.arange(0, 0.6, 0.02):\n",
    "    predicted_valid = probabilities_one_valid > threshold\n",
    "    precision = precision_score(target_valid, predicted_valid)\n",
    "    recall = recall_score(target_valid, predicted_valid)\n",
    "    f1 = f1_score(target_valid, predicted_valid)\n",
    "\n",
    "    print(\"Порог = {:.2f} | Точность = {:.3f}, Полнота = {:.3f}, F1 = {:.3f}\".format(\n",
    "        threshold, precision, recall, f1))"
   ]
  },
  {
   "cell_type": "markdown",
   "id": "684358d1",
   "metadata": {},
   "source": [
    "Максимальное значение F1 метрики достигается при пороге 0.5 - значит, порог менять не нужно."
   ]
  },
  {
   "cell_type": "code",
   "execution_count": 134,
   "id": "a97baeb9",
   "metadata": {
    "scrolled": true
   },
   "outputs": [
    {
     "data": {
      "image/png": "[encoded data removed]",
      "text/plain": [
       "<Figure size 432x432 with 1 Axes>"
      ]
     },
     "metadata": {
      "needs_background": "light"
     },
     "output_type": "display_data"
    }
   ],
   "source": [
    "# строим PR-кривую\n",
    "precision, recall, thresholds = precision_recall_curve(target_valid, probabilities_valid[:, 1])\n",
    "\n",
    "plt.figure(figsize=(6, 6))\n",
    "plt.step(recall, precision, where='post')\n",
    "plt.xlabel('Recall')\n",
    "plt.ylabel('Precision')\n",
    "plt.ylim([0.0, 1.05])\n",
    "plt.xlim([0.0, 1.0])\n",
    "plt.title('Кривая Precision-Recall')\n",
    "plt.show() "
   ]
  },
  {
   "cell_type": "markdown",
   "id": "2c5a22c6",
   "metadata": {},
   "source": [
    "Проверим модель на адекватность."
   ]
  },
  {
   "cell_type": "code",
   "execution_count": 135,
   "id": "fb9acae0",
   "metadata": {},
   "outputs": [
    {
     "data": {
      "image/png": "[encoded data removed]",
      "text/plain": [
       "<Figure size 432x288 with 1 Axes>"
      ]
     },
     "metadata": {
      "needs_background": "light"
     },
     "output_type": "display_data"
    }
   ],
   "source": [
    "# построим ROC-кривую\n",
    "fpr, tpr, thresholds = roc_curve(target_valid, probabilities_one_valid)\n",
    "\n",
    "plt.figure()\n",
    "\n",
    "plt.plot(fpr, tpr)\n",
    "\n",
    "# ROC-кривая случайной модели (выглядит как прямая)\n",
    "plt.plot([0, 1], [0, 1], linestyle='--')\n",
    "\n",
    "plt.xlim([0.0, 1.0])\n",
    "plt.ylim([0.0, 1.0])\n",
    "\n",
    "plt.xlabel('False Positive Rate')\n",
    "plt.ylabel('True Positive Rate')\n",
    "\n",
    "plt.title('ROC-кривая')\n",
    "plt.show()"
   ]
  },
  {
   "cell_type": "code",
   "execution_count": 136,
   "id": "61184264",
   "metadata": {},
   "outputs": [
    {
     "name": "stdout",
     "output_type": "stream",
     "text": [
      "AUC-ROC: 0.7625666136378758\n"
     ]
    }
   ],
   "source": [
    "# вычисляем AUC-ROC\n",
    "auc_roc = roc_auc_score(target_valid, probabilities_one_valid)\n",
    "\n",
    "print('AUC-ROC:', auc_roc)"
   ]
  },
  {
   "cell_type": "markdown",
   "id": "bd80dfe4",
   "metadata": {},
   "source": [
    "Метрика AUC-ROC: 0.76. Лучше, чем у случайной модели, но до идеала ещё далеко.   \n",
    "Лучший результат модели логистической регрессии: 0.5048  \n",
    "Перебалансировка: downsampling   \n",
    "Порог: 0.5"
   ]
  },
  {
   "cell_type": "markdown",
   "id": "75032bc3",
   "metadata": {},
   "source": [
    "### Решающее дерево"
   ]
  },
  {
   "cell_type": "code",
   "execution_count": 137,
   "id": "178c4de3",
   "metadata": {},
   "outputs": [
    {
     "name": "stdout",
     "output_type": "stream",
     "text": [
      "F1: 0.5963791267305644\n",
      "Глубина дерева: 5\n"
     ]
    }
   ],
   "source": [
    "# добавим в решающее дерево взвешивание классов и найдём значение F1 меры\n",
    "best_depth = 0\n",
    "best_f1 = 0\n",
    "best_model = None \n",
    "\n",
    "for depth in range(1, 10):\n",
    "    model = DecisionTreeClassifier(random_state=12345, max_depth=depth, class_weight='balanced')\n",
    "    model.fit(features_train_ohe, target_train)\n",
    "    predicted_valid = model.predict(features_valid_ohe)\n",
    "    f1 = f1_score(target_valid, predicted_valid)\n",
    "    if f1 > best_f1:\n",
    "        best_depth = depth\n",
    "        best_f1 = f1 \n",
    "        best_model = model\n",
    "\n",
    "print('F1:', best_f1)\n",
    "print('Глубина дерева:', best_depth)"
   ]
  },
  {
   "cell_type": "markdown",
   "id": "ce63131b",
   "metadata": {},
   "source": [
    "Взвешивание классов в решающем дереве улучшило F1 метрику с 0.569 до 0.596."
   ]
  },
  {
   "cell_type": "code",
   "execution_count": 138,
   "id": "ca79a124",
   "metadata": {},
   "outputs": [
    {
     "name": "stdout",
     "output_type": "stream",
     "text": [
      "F1: 0.5963791267305644\n",
      "Глубина дерева: 5\n"
     ]
    }
   ],
   "source": [
    "# применим к решающему дереву технику upsampling и найдём значение F1 меры\n",
    "features_upsampled, target_upsampled = upsample(features_train_ohe, target_train, 4)\n",
    "\n",
    "best_depth = 0\n",
    "best_f1 = 0\n",
    "for depth in range(1, 10):\n",
    "    model = DecisionTreeClassifier(random_state=12345, max_depth=depth)\n",
    "    model.fit(features_upsampled, target_upsampled)\n",
    "    predicted_valid = model.predict(features_valid_ohe)\n",
    "    f1 = f1_score(target_valid, predicted_valid)\n",
    "    if f1 > best_f1:\n",
    "        best_depth = depth\n",
    "        best_f1 = f1 \n",
    "\n",
    "print('F1:', best_f1)\n",
    "print('Глубина дерева:', best_depth)"
   ]
  },
  {
   "cell_type": "markdown",
   "id": "0e1cdc01",
   "metadata": {},
   "source": [
    "Техника увеличения выборки не изменила метрику."
   ]
  },
  {
   "cell_type": "code",
   "execution_count": 139,
   "id": "4b345a34",
   "metadata": {},
   "outputs": [
    {
     "name": "stdout",
     "output_type": "stream",
     "text": [
      "F1: 0.5805843543826579\n",
      "Глубина дерева: 6\n"
     ]
    }
   ],
   "source": [
    "# применим к решающему дереву технику downsampling и найдём значение F1 меры\n",
    "features_downsampled, target_downsampled = downsample(features_train_ohe, target_train, 0.3)\n",
    "\n",
    "best_depth = 0\n",
    "best_f1 = 0\n",
    "for depth in range(1, 10):\n",
    "    model = DecisionTreeClassifier(random_state=12345, max_depth=depth)\n",
    "    model.fit(features_downsampled, target_downsampled)\n",
    "    predicted_valid = model.predict(features_valid_ohe)\n",
    "    f1 = f1_score(target_valid, predicted_valid)\n",
    "    if f1 > best_f1:\n",
    "        best_depth = depth\n",
    "        best_f1 = f1 \n",
    "\n",
    "print('F1:', best_f1)\n",
    "print('Глубина дерева:', best_depth)"
   ]
  },
  {
   "cell_type": "markdown",
   "id": "76b2f258",
   "metadata": {},
   "source": [
    "Техника уменьшения выборки немного ухудшила метрику. Значит, остановимся на варианте с взвешиванием классов."
   ]
  },
  {
   "cell_type": "code",
   "execution_count": 140,
   "id": "c2db8d76",
   "metadata": {},
   "outputs": [
    {
     "name": "stdout",
     "output_type": "stream",
     "text": [
      "0.5963791267305644\n"
     ]
    }
   ],
   "source": [
    "model = DecisionTreeClassifier(random_state=12345, max_depth=5, class_weight='balanced')\n",
    "model.fit(features_train_ohe, target_train)\n",
    "predicted_valid = model.predict(features_valid_ohe)\n",
    "print(f1_score(target_valid, predicted_valid))"
   ]
  },
  {
   "cell_type": "markdown",
   "id": "926eca64",
   "metadata": {},
   "source": [
    "Попробуем менять порог классификации."
   ]
  },
  {
   "cell_type": "code",
   "execution_count": 141,
   "id": "4a070326",
   "metadata": {},
   "outputs": [
    {
     "name": "stdout",
     "output_type": "stream",
     "text": [
      "Вероятность положительного класса первых пяти объектов: [0.02910316 0.67540834 0.4552828  0.2444974  0.12251352]\n",
      "Средняя вероятность положительного класса: 0.3875970292726538\n"
     ]
    }
   ],
   "source": [
    "# рассчитываем вероятности положительного класса\n",
    "probabilities_valid = model.predict_proba(features_valid_ohe)\n",
    "probabilities_one_valid = probabilities_valid[:,1]\n",
    "print('Вероятность положительного класса первых пяти объектов:', probabilities_one_valid[:5])\n",
    "print('Средняя вероятность положительного класса:', probabilities_one_valid.mean())"
   ]
  },
  {
   "cell_type": "code",
   "execution_count": 142,
   "id": "78c297a2",
   "metadata": {},
   "outputs": [
    {
     "name": "stdout",
     "output_type": "stream",
     "text": [
      "Порог = 0.00 | Точность = 0.208, Полнота = 0.995, F1 = 0.345\n",
      "Порог = 0.02 | Точность = 0.208, Полнота = 0.995, F1 = 0.345\n",
      "Порог = 0.04 | Точность = 0.238, Полнота = 0.978, F1 = 0.383\n",
      "Порог = 0.06 | Точность = 0.238, Полнота = 0.978, F1 = 0.383\n",
      "Порог = 0.08 | Точность = 0.238, Полнота = 0.978, F1 = 0.383\n",
      "Порог = 0.10 | Точность = 0.238, Полнота = 0.978, F1 = 0.383\n",
      "Порог = 0.12 | Точность = 0.238, Полнота = 0.978, F1 = 0.383\n",
      "Порог = 0.14 | Точность = 0.253, Полнота = 0.962, F1 = 0.401\n",
      "Порог = 0.16 | Точность = 0.263, Полнота = 0.955, F1 = 0.412\n",
      "Порог = 0.18 | Точность = 0.264, Полнота = 0.947, F1 = 0.413\n",
      "Порог = 0.20 | Точность = 0.295, Полнота = 0.928, F1 = 0.448\n",
      "Порог = 0.22 | Точность = 0.295, Полнота = 0.928, F1 = 0.448\n",
      "Порог = 0.24 | Точность = 0.295, Полнота = 0.928, F1 = 0.448\n",
      "Порог = 0.26 | Точность = 0.335, Полнота = 0.878, F1 = 0.485\n",
      "Порог = 0.28 | Точность = 0.335, Полнота = 0.878, F1 = 0.485\n",
      "Порог = 0.30 | Точность = 0.335, Полнота = 0.878, F1 = 0.485\n",
      "Порог = 0.32 | Точность = 0.335, Полнота = 0.878, F1 = 0.485\n",
      "Порог = 0.34 | Точность = 0.335, Полнота = 0.878, F1 = 0.485\n",
      "Порог = 0.36 | Точность = 0.362, Полнота = 0.844, F1 = 0.507\n",
      "Порог = 0.38 | Точность = 0.362, Полнота = 0.844, F1 = 0.507\n",
      "Порог = 0.40 | Точность = 0.362, Полнота = 0.844, F1 = 0.507\n",
      "Порог = 0.42 | Точность = 0.362, Полнота = 0.844, F1 = 0.507\n",
      "Порог = 0.44 | Точность = 0.410, Полнота = 0.770, F1 = 0.535\n",
      "Порог = 0.46 | Точность = 0.537, Полнота = 0.670, F1 = 0.596\n",
      "Порог = 0.48 | Точность = 0.537, Полнота = 0.670, F1 = 0.596\n",
      "Порог = 0.50 | Точность = 0.537, Полнота = 0.670, F1 = 0.596\n",
      "Порог = 0.52 | Точность = 0.537, Полнота = 0.670, F1 = 0.596\n",
      "Порог = 0.54 | Точность = 0.537, Полнота = 0.670, F1 = 0.596\n",
      "Порог = 0.56 | Точность = 0.537, Полнота = 0.670, F1 = 0.596\n",
      "Порог = 0.58 | Точность = 0.580, Полнота = 0.639, F1 = 0.608\n",
      "Порог = 0.60 | Точность = 0.580, Полнота = 0.639, F1 = 0.608\n",
      "Порог = 0.62 | Точность = 0.580, Полнота = 0.639, F1 = 0.608\n",
      "Порог = 0.64 | Точность = 0.580, Полнота = 0.639, F1 = 0.608\n",
      "Порог = 0.66 | Точность = 0.580, Полнота = 0.639, F1 = 0.608\n",
      "Порог = 0.68 | Точность = 0.732, Полнота = 0.450, F1 = 0.557\n"
     ]
    }
   ],
   "source": [
    "# перебираем значение порога и для каждого находим точность, полноту и F1-меру\n",
    "for threshold in np.arange(0, 0.7, 0.02):\n",
    "    predicted_valid = probabilities_one_valid > threshold\n",
    "    precision = precision_score(target_valid, predicted_valid)\n",
    "    recall = recall_score(target_valid, predicted_valid)\n",
    "    f1 = f1_score(target_valid, predicted_valid)\n",
    "\n",
    "    print(\"Порог = {:.2f} | Точность = {:.3f}, Полнота = {:.3f}, F1 = {:.3f}\".format(\n",
    "        threshold, precision, recall, f1))"
   ]
  },
  {
   "cell_type": "markdown",
   "id": "f488948e",
   "metadata": {},
   "source": [
    "Порог 0.58 увеличивает F1 метрику до 0.608."
   ]
  },
  {
   "cell_type": "code",
   "execution_count": 143,
   "id": "4d6de59e",
   "metadata": {},
   "outputs": [
    {
     "data": {
      "image/png": "[encoded data removed]",
      "text/plain": [
       "<Figure size 432x432 with 1 Axes>"
      ]
     },
     "metadata": {
      "needs_background": "light"
     },
     "output_type": "display_data"
    }
   ],
   "source": [
    "# строим PR-кривую\n",
    "precision, recall, thresholds = precision_recall_curve(target_valid, probabilities_valid[:, 1])\n",
    "\n",
    "plt.figure(figsize=(6, 6))\n",
    "plt.step(recall, precision, where='post')\n",
    "plt.xlabel('Recall')\n",
    "plt.ylabel('Precision')\n",
    "plt.ylim([0.0, 1.05])\n",
    "plt.xlim([0.0, 1.0])\n",
    "plt.title('Кривая Precision-Recall')\n",
    "plt.show() "
   ]
  },
  {
   "cell_type": "code",
   "execution_count": 144,
   "id": "fd9dac69",
   "metadata": {},
   "outputs": [
    {
     "data": {
      "image/png": "[encoded data removed]",
      "text/plain": [
       "<Figure size 432x288 with 1 Axes>"
      ]
     },
     "metadata": {
      "needs_background": "light"
     },
     "output_type": "display_data"
    }
   ],
   "source": [
    "# построим ROC-кривую\n",
    "fpr, tpr, thresholds = roc_curve(target_valid, probabilities_one_valid)\n",
    "\n",
    "plt.figure()\n",
    "\n",
    "plt.plot(fpr, tpr)\n",
    "\n",
    "# ROC-кривая случайной модели (выглядит как прямая)\n",
    "plt.plot([0, 1], [0, 1], linestyle='--')\n",
    "\n",
    "plt.xlim([0.0, 1.0])\n",
    "plt.ylim([0.0, 1.0])\n",
    "\n",
    "plt.xlabel('False Positive Rate')\n",
    "plt.ylabel('True Positive Rate')\n",
    "\n",
    "plt.title('ROC-кривая')\n",
    "plt.show()"
   ]
  },
  {
   "cell_type": "code",
   "execution_count": 145,
   "id": "aae55e5e",
   "metadata": {},
   "outputs": [
    {
     "name": "stdout",
     "output_type": "stream",
     "text": [
      "AUC-ROC: 0.8310244134068074\n"
     ]
    }
   ],
   "source": [
    "# вычисляем AUC-ROC\n",
    "auc_roc = roc_auc_score(target_valid, probabilities_one_valid)\n",
    "\n",
    "print('AUC-ROC:', auc_roc)"
   ]
  },
  {
   "cell_type": "markdown",
   "id": "5ecc8283",
   "metadata": {},
   "source": [
    "Метрика AUC-ROC: 0.83. Лучше, чем у случайной модели и у логистической регрессии.   \n",
    "Лучший результат модели решающего дерева: 0.608  \n",
    "Перебалансировка: взвешивание классов  \n",
    "Порог: 0.58"
   ]
  },
  {
   "cell_type": "markdown",
   "id": "1f5c8e2c",
   "metadata": {},
   "source": [
    "### Случайный лес"
   ]
  },
  {
   "cell_type": "code",
   "execution_count": 146,
   "id": "65ac923d",
   "metadata": {},
   "outputs": [
    {
     "name": "stdout",
     "output_type": "stream",
     "text": [
      "F1: 0.6181818181818183\n",
      "Глубина дерева: 7\n",
      "Количество деревьев: 9\n",
      "Wall time: 3.62 s\n"
     ]
    }
   ],
   "source": [
    "%%time\n",
    "# добавим в случайный лес взвешивание классов и найдём значение F1 меры\n",
    "best_depth = 0\n",
    "best_est = 0\n",
    "best_f1 = 0\n",
    "\n",
    "for est in range(1, 10):\n",
    "    for depth in range(1, 15):\n",
    "        model = RandomForestClassifier(n_estimators=est, max_depth=depth, random_state=12345, class_weight='balanced')\n",
    "        model.fit(features_train_ohe, target_train)\n",
    "        predicted_valid = model.predict(features_valid_ohe)\n",
    "        f1 = f1_score(target_valid, predicted_valid)\n",
    "        if f1 > best_f1:\n",
    "            best_depth = depth\n",
    "            best_f1 = f1 \n",
    "            best_est = est \n",
    "\n",
    "print('F1:', best_f1)\n",
    "print('Глубина дерева:', best_depth)\n",
    "print('Количество деревьев:', best_est)"
   ]
  },
  {
   "cell_type": "markdown",
   "id": "968af7d7",
   "metadata": {},
   "source": [
    "Благодаря взвешиванию классов, F1 метрика улучшилась с 0.599 до 0.618."
   ]
  },
  {
   "cell_type": "code",
   "execution_count": 147,
   "id": "d6913c94",
   "metadata": {},
   "outputs": [
    {
     "name": "stdout",
     "output_type": "stream",
     "text": [
      "F1: 0.6349614395886889\n",
      "Глубина дерева: 10\n",
      "Количество деревьев: 9\n",
      "Wall time: 3.35 s\n"
     ]
    }
   ],
   "source": [
    "%%time\n",
    "# применим к решающему дереву технику upsampling и найдём значение F1 меры\n",
    "features_upsampled, target_upsampled = upsample(features_train_ohe, target_train, 2)\n",
    "\n",
    "best_depth = 0\n",
    "best_est = 0\n",
    "best_f1 = 0\n",
    "\n",
    "for est in range(1, 10):\n",
    "    for depth in range(1, 15):\n",
    "        model = RandomForestClassifier(n_estimators=est, max_depth=depth, random_state=12345)\n",
    "        model.fit(features_upsampled, target_upsampled)\n",
    "        predicted_valid = model.predict(features_valid_ohe)\n",
    "        f1 = f1_score(target_valid, predicted_valid)\n",
    "        if f1 > best_f1:\n",
    "            best_depth = depth\n",
    "            best_f1 = f1 \n",
    "            best_est = est \n",
    "\n",
    "print('F1:', best_f1)\n",
    "print('Глубина дерева:', best_depth)\n",
    "print('Количество деревьев:', best_est)"
   ]
  },
  {
   "cell_type": "markdown",
   "id": "744e4248",
   "metadata": {},
   "source": [
    "Техника upsampling помогла улучшить метрику с 0.628 до 0.63."
   ]
  },
  {
   "cell_type": "code",
   "execution_count": 148,
   "id": "96880cb3",
   "metadata": {},
   "outputs": [
    {
     "name": "stdout",
     "output_type": "stream",
     "text": [
      "F1: 0.6332945285215367\n",
      "Глубина дерева: 8\n",
      "Количество деревьев: 9\n",
      "Wall time: 2.75 s\n"
     ]
    }
   ],
   "source": [
    "%%time\n",
    "# применим к случайному лесу технику downsampling и найдём значение F1 меры\n",
    "features_downsampled, target_downsampled = downsample(features_train_ohe, target_train, 0.4)\n",
    "\n",
    "best_depth = 0\n",
    "best_est = 0\n",
    "best_f1 = 0\n",
    "\n",
    "for est in range(1, 11):\n",
    "    for depth in range(1, 15):\n",
    "        model = RandomForestClassifier(n_estimators=est, max_depth=depth, random_state=12345)\n",
    "        model.fit(features_downsampled, target_downsampled)\n",
    "        predicted_valid = model.predict(features_valid_ohe)\n",
    "        f1 = f1_score(target_valid, predicted_valid)\n",
    "        if f1 > best_f1:\n",
    "            best_depth = depth\n",
    "            best_f1 = f1 \n",
    "            best_est = est \n",
    "\n",
    "print('F1:', best_f1)\n",
    "print('Глубина дерева:', best_depth)\n",
    "print('Количество деревьев:', best_est)"
   ]
  },
  {
   "cell_type": "markdown",
   "id": "a15c7f21",
   "metadata": {},
   "source": [
    "Техника upsampling справилась лучше всего."
   ]
  },
  {
   "cell_type": "code",
   "execution_count": 149,
   "id": "a4135509",
   "metadata": {},
   "outputs": [
    {
     "name": "stdout",
     "output_type": "stream",
     "text": [
      "0.6349614395886889\n"
     ]
    }
   ],
   "source": [
    "model = RandomForestClassifier(n_estimators=9, max_depth=10, random_state=12345)\n",
    "model.fit(features_upsampled, target_upsampled)\n",
    "predicted_valid = model.predict(features_valid_ohe)\n",
    "print(f1_score(target_valid, predicted_valid))"
   ]
  },
  {
   "cell_type": "markdown",
   "id": "74d87415",
   "metadata": {},
   "source": [
    "Попробуем менять порог классификации."
   ]
  },
  {
   "cell_type": "code",
   "execution_count": 150,
   "id": "fb0147a2",
   "metadata": {},
   "outputs": [
    {
     "name": "stdout",
     "output_type": "stream",
     "text": [
      "Вероятность положительного класса первых пяти объектов: [0.04631496 0.63872254 0.35556871 0.14226782 0.14889441]\n",
      "Средняя вероятность положительного класса: 0.2725343338021912\n"
     ]
    }
   ],
   "source": [
    "# рассчитываем вероятности положительного класса\n",
    "probabilities_valid = model.predict_proba(features_valid_ohe)\n",
    "probabilities_one_valid = probabilities_valid[:,1]\n",
    "print('Вероятность положительного класса первых пяти объектов:', probabilities_one_valid[:5])\n",
    "print('Средняя вероятность положительного класса:', probabilities_one_valid.mean())"
   ]
  },
  {
   "cell_type": "code",
   "execution_count": 151,
   "id": "026498ca",
   "metadata": {},
   "outputs": [
    {
     "name": "stdout",
     "output_type": "stream",
     "text": [
      "Порог = 0.00 | Точность = 0.209, Полнота = 1.000, F1 = 0.346\n",
      "Порог = 0.02 | Точность = 0.218, Полнота = 0.995, F1 = 0.358\n",
      "Порог = 0.04 | Точность = 0.233, Полнота = 0.988, F1 = 0.378\n",
      "Порог = 0.06 | Точность = 0.246, Полнота = 0.967, F1 = 0.393\n",
      "Порог = 0.08 | Точность = 0.256, Полнота = 0.952, F1 = 0.403\n",
      "Порог = 0.10 | Точность = 0.274, Полнота = 0.943, F1 = 0.424\n",
      "Порог = 0.12 | Точность = 0.288, Полнота = 0.919, F1 = 0.438\n",
      "Порог = 0.14 | Точность = 0.306, Полнота = 0.904, F1 = 0.457\n",
      "Порог = 0.16 | Точность = 0.328, Полнота = 0.890, F1 = 0.479\n",
      "Порог = 0.18 | Точность = 0.349, Полнота = 0.861, F1 = 0.497\n",
      "Порог = 0.20 | Точность = 0.370, Полнота = 0.844, F1 = 0.515\n",
      "Порог = 0.22 | Точность = 0.389, Полнота = 0.811, F1 = 0.526\n",
      "Порог = 0.24 | Точность = 0.415, Полнота = 0.792, F1 = 0.544\n",
      "Порог = 0.26 | Точность = 0.432, Полнота = 0.770, F1 = 0.554\n",
      "Порог = 0.28 | Точность = 0.453, Полнота = 0.758, F1 = 0.567\n",
      "Порог = 0.30 | Точность = 0.478, Полнота = 0.742, F1 = 0.582\n",
      "Порог = 0.32 | Точность = 0.504, Полнота = 0.720, F1 = 0.593\n",
      "Порог = 0.34 | Точность = 0.529, Полнота = 0.706, F1 = 0.605\n",
      "Порог = 0.36 | Точность = 0.553, Полнота = 0.691, F1 = 0.614\n",
      "Порог = 0.38 | Точность = 0.567, Полнота = 0.679, F1 = 0.618\n",
      "Порог = 0.40 | Точность = 0.589, Полнота = 0.672, F1 = 0.628\n",
      "Порог = 0.42 | Точность = 0.605, Полнота = 0.656, F1 = 0.629\n",
      "Порог = 0.44 | Точность = 0.623, Полнота = 0.636, F1 = 0.630\n",
      "Порог = 0.46 | Точность = 0.651, Полнота = 0.620, F1 = 0.635\n",
      "Порог = 0.48 | Точность = 0.673, Полнота = 0.605, F1 = 0.637\n",
      "Порог = 0.50 | Точность = 0.686, Полнота = 0.591, F1 = 0.635\n",
      "Порог = 0.52 | Точность = 0.707, Полнота = 0.567, F1 = 0.629\n",
      "Порог = 0.54 | Точность = 0.728, Полнота = 0.550, F1 = 0.627\n",
      "Порог = 0.56 | Точность = 0.752, Полнота = 0.529, F1 = 0.621\n",
      "Порог = 0.58 | Точность = 0.785, Полнота = 0.524, F1 = 0.628\n",
      "Порог = 0.60 | Точность = 0.809, Полнота = 0.507, F1 = 0.624\n",
      "Порог = 0.62 | Точность = 0.821, Полнота = 0.483, F1 = 0.608\n",
      "Порог = 0.64 | Точность = 0.842, Полнота = 0.459, F1 = 0.594\n",
      "Порог = 0.66 | Точность = 0.850, Полнота = 0.435, F1 = 0.576\n",
      "Порог = 0.68 | Точность = 0.854, Полнота = 0.407, F1 = 0.551\n"
     ]
    }
   ],
   "source": [
    "# перебираем значение порога и для каждого находим точность, полноту и F1-меру\n",
    "for threshold in np.arange(0, 0.7, 0.02):\n",
    "    predicted_valid = probabilities_one_valid > threshold\n",
    "    precision = precision_score(target_valid, predicted_valid)\n",
    "    recall = recall_score(target_valid, predicted_valid)\n",
    "    f1 = f1_score(target_valid, predicted_valid)\n",
    "\n",
    "    print(\"Порог = {:.2f} | Точность = {:.3f}, Полнота = {:.3f}, F1 = {:.3f}\".format(\n",
    "        threshold, precision, recall, f1))"
   ]
  },
  {
   "cell_type": "markdown",
   "id": "64d197d6",
   "metadata": {},
   "source": [
    "Порог 0.48 даёт лучший результат: 0.637."
   ]
  },
  {
   "cell_type": "code",
   "execution_count": 152,
   "id": "2413df70",
   "metadata": {},
   "outputs": [
    {
     "data": {
      "image/png": "[encoded data removed]",
      "text/plain": [
       "<Figure size 432x432 with 1 Axes>"
      ]
     },
     "metadata": {
      "needs_background": "light"
     },
     "output_type": "display_data"
    }
   ],
   "source": [
    "# строим PR-кривую\n",
    "precision, recall, thresholds = precision_recall_curve(target_valid, probabilities_valid[:, 1])\n",
    "\n",
    "plt.figure(figsize=(6, 6))\n",
    "plt.step(recall, precision, where='post')\n",
    "plt.xlabel('Recall')\n",
    "plt.ylabel('Precision')\n",
    "plt.ylim([0.0, 1.05])\n",
    "plt.xlim([0.0, 1.0])\n",
    "plt.title('Кривая Precision-Recall')\n",
    "plt.show() "
   ]
  },
  {
   "cell_type": "code",
   "execution_count": 153,
   "id": "5aaf50c3",
   "metadata": {},
   "outputs": [
    {
     "data": {
      "image/png": "[encoded data removed]",
      "text/plain": [
       "<Figure size 432x288 with 1 Axes>"
      ]
     },
     "metadata": {
      "needs_background": "light"
     },
     "output_type": "display_data"
    }
   ],
   "source": [
    "# построим ROC-кривую\n",
    "fpr, tpr, thresholds = roc_curve(target_valid, probabilities_one_valid)\n",
    "\n",
    "plt.figure()\n",
    "\n",
    "plt.plot(fpr, tpr)\n",
    "\n",
    "# ROC-кривая случайной модели (выглядит как прямая)\n",
    "plt.plot([0, 1], [0, 1], linestyle='--')\n",
    "\n",
    "plt.xlim([0.0, 1.0])\n",
    "plt.ylim([0.0, 1.0])\n",
    "\n",
    "plt.xlabel('False Positive Rate')\n",
    "plt.ylabel('True Positive Rate')\n",
    "\n",
    "plt.title('ROC-кривая')\n",
    "plt.show()"
   ]
  },
  {
   "cell_type": "code",
   "execution_count": 154,
   "id": "fbc5140a",
   "metadata": {},
   "outputs": [
    {
     "name": "stdout",
     "output_type": "stream",
     "text": [
      "AUC-ROC: 0.8428916216526836\n"
     ]
    }
   ],
   "source": [
    "# вычисляем AUC-ROC\n",
    "auc_roc = roc_auc_score(target_valid, probabilities_one_valid)\n",
    "\n",
    "print('AUC-ROC:', auc_roc)"
   ]
  },
  {
   "cell_type": "markdown",
   "id": "9b04af37",
   "metadata": {},
   "source": [
    "Метрика AUC-ROC: 0.84. Лучше, чем у случайной модели, логистической регрессии и решающего дерева.   \n",
    "Лучший результат модели случайного леса: 0.637  \n",
    "Перебалансировка: upsampling   \n",
    "Порог: 0.48"
   ]
  },
  {
   "cell_type": "markdown",
   "id": "62f00632",
   "metadata": {},
   "source": [
    "#### Вывод"
   ]
  },
  {
   "cell_type": "markdown",
   "id": "2dd959fe",
   "metadata": {},
   "source": [
    "Подведём итоги:   \n",
    "\n",
    "- Логистическая регрессия: 0.5048\n",
    "- Решающее дерево: 0.608\n",
    "- Случайный лес: 0.637  \n",
    "   \n",
    "Для тестирования выбираем модель случайного леса с количеством деревьев 9, глубиной 10 и порогом 0.44."
   ]
  },
  {
   "cell_type": "markdown",
   "id": "021d4904",
   "metadata": {},
   "source": [
    "## Тестирование модели"
   ]
  },
  {
   "cell_type": "code",
   "execution_count": 155,
   "id": "4ace27be",
   "metadata": {},
   "outputs": [
    {
     "data": {
      "text/plain": [
       "(6000, 11)"
      ]
     },
     "execution_count": 155,
     "metadata": {},
     "output_type": "execute_result"
    }
   ],
   "source": [
    "features_train_ohe.shape"
   ]
  },
  {
   "cell_type": "code",
   "execution_count": 156,
   "id": "1d112aae",
   "metadata": {},
   "outputs": [
    {
     "data": {
      "text/plain": [
       "(2000, 11)"
      ]
     },
     "execution_count": 156,
     "metadata": {},
     "output_type": "execute_result"
    }
   ],
   "source": [
    "features_valid_ohe.shape"
   ]
  },
  {
   "cell_type": "code",
   "execution_count": 157,
   "id": "6147f85a",
   "metadata": {},
   "outputs": [
    {
     "data": {
      "text/plain": [
       "(6000,)"
      ]
     },
     "execution_count": 157,
     "metadata": {},
     "output_type": "execute_result"
    }
   ],
   "source": [
    "target_train.shape"
   ]
  },
  {
   "cell_type": "code",
   "execution_count": 158,
   "id": "f74f80f9",
   "metadata": {},
   "outputs": [
    {
     "data": {
      "text/plain": [
       "(2000,)"
      ]
     },
     "execution_count": 158,
     "metadata": {},
     "output_type": "execute_result"
    }
   ],
   "source": [
    "target_valid.shape"
   ]
  },
  {
   "cell_type": "code",
   "execution_count": 159,
   "id": "465ccc6e",
   "metadata": {},
   "outputs": [],
   "source": [
    "features_train = pd.concat([features_train_ohe, features_valid_ohe])\n",
    "target_train = pd.concat([target_train, target_valid])"
   ]
  },
  {
   "cell_type": "code",
   "execution_count": 162,
   "id": "289264aa",
   "metadata": {},
   "outputs": [],
   "source": [
    "features_train = features_train.reset_index(drop=True)"
   ]
  },
  {
   "cell_type": "code",
   "execution_count": 163,
   "id": "813f45bf",
   "metadata": {},
   "outputs": [],
   "source": [
    "target_train = target_train.reset_index(drop=True)"
   ]
  },
  {
   "cell_type": "code",
   "execution_count": 174,
   "id": "ca253f81",
   "metadata": {
    "scrolled": false
   },
   "outputs": [
    {
     "name": "stdout",
     "output_type": "stream",
     "text": [
      "F1: 0.6050632911392405\n",
      "Wall time: 93.7 ms\n"
     ]
    }
   ],
   "source": [
    "%%time\n",
    "# объединим обучающую и валидационную выборки в одну обучающую, обучим лучшую модель и получим F1-меру для тестовой выборки\n",
    "features_upsampled, target_upsampled = upsample(features_train, target_train, 2)\n",
    "\n",
    "model = RandomForestClassifier(n_estimators=9, max_depth=9, random_state=12345)\n",
    "model.fit(features_upsampled, target_upsampled)\n",
    "\n",
    "threshold = 0.49\n",
    "\n",
    "predicted_proba = model.predict_proba(features_test_ohe)\n",
    "predicted_test = (predicted_proba[:,1] >= threshold).astype('int')\n",
    "\n",
    "print('F1:', f1_score(target_test, predicted_test))"
   ]
  },
  {
   "cell_type": "markdown",
   "id": "09a7a2c7",
   "metadata": {},
   "source": [
    "На тестовой выборке немного другие гиперпараметры показывают лучший результат: поменяли порог и глубину дерева."
   ]
  },
  {
   "cell_type": "code",
   "execution_count": 175,
   "id": "6e2acafc",
   "metadata": {},
   "outputs": [
    {
     "name": "stdout",
     "output_type": "stream",
     "text": [
      "Вероятность положительного класса первых пяти объектов: [0.19804016 0.42206696 0.07161305 0.08614682 0.04230678]\n",
      "Средняя вероятность положительного класса: 0.2775485038515968\n"
     ]
    }
   ],
   "source": [
    "# рассчитываем вероятности положительного класса\n",
    "probabilities_one_test = predicted_proba[:,1]\n",
    "print('Вероятность положительного класса первых пяти объектов:', probabilities_one_test[:5])\n",
    "print('Средняя вероятность положительного класса:', probabilities_one_test.mean())"
   ]
  },
  {
   "cell_type": "code",
   "execution_count": 176,
   "id": "318f1cff",
   "metadata": {},
   "outputs": [
    {
     "name": "stdout",
     "output_type": "stream",
     "text": [
      "AUC-ROC: 0.8546826349818835\n"
     ]
    }
   ],
   "source": [
    "# вычисляем AUC-ROC\n",
    "auc_roc = roc_auc_score(target_test, probabilities_one_test)\n",
    "\n",
    "print('AUC-ROC:', auc_roc)"
   ]
  },
  {
   "cell_type": "markdown",
   "id": "b4b7711d",
   "metadata": {},
   "source": [
    "#### Вывод"
   ]
  },
  {
   "cell_type": "markdown",
   "id": "7f738c3d",
   "metadata": {},
   "source": [
    "Метрика AUC-ROC: 0.85. Даже лучше, чем на валидационной выборке.      \n",
    "Лучший результат модели случайного леса: 0.6  \n",
    "Перебалансировка: upsampling   \n",
    "Порог: 0.44"
   ]
  }
 ],
 "metadata": {
  "ExecuteTimeLog": [
   {
    "duration": 1640,
    "start_time": "2022-08-13T11:09:53.659Z"
   },
   {
    "duration": 82,
    "start_time": "2022-08-13T11:09:55.301Z"
   },
   {
    "duration": 17,
    "start_time": "2022-08-13T11:10:00.581Z"
   },
   {
    "duration": 14,
    "start_time": "2022-08-13T11:10:01.580Z"
   },
   {
    "duration": 9,
    "start_time": "2022-08-13T11:10:01.986Z"
   },
   {
    "duration": 6,
    "start_time": "2022-08-13T11:10:02.376Z"
   },
   {
    "duration": 5,
    "start_time": "2022-08-13T11:10:02.740Z"
   },
   {
    "duration": 13,
    "start_time": "2022-08-13T11:10:03.099Z"
   },
   {
    "duration": 18,
    "start_time": "2022-08-13T11:10:03.454Z"
   },
   {
    "duration": 41,
    "start_time": "2022-08-13T11:10:03.809Z"
   },
   {
    "duration": 70,
    "start_time": "2022-08-13T11:10:04.541Z"
   },
   {
    "duration": 134,
    "start_time": "2022-08-13T11:10:04.923Z"
   },
   {
    "duration": 3460,
    "start_time": "2022-08-13T11:10:05.268Z"
   },
   {
    "duration": 119,
    "start_time": "2022-08-13T11:10:08.730Z"
   },
   {
    "duration": 3,
    "start_time": "2022-08-13T11:10:08.851Z"
   },
   {
    "duration": 25,
    "start_time": "2022-08-13T11:10:08.856Z"
   },
   {
    "duration": 38,
    "start_time": "2022-08-13T11:10:08.882Z"
   },
   {
    "duration": 199,
    "start_time": "2022-08-13T11:10:08.925Z"
   },
   {
    "duration": 190,
    "start_time": "2022-08-13T11:10:09.126Z"
   },
   {
    "duration": 197,
    "start_time": "2022-08-13T11:10:09.318Z"
   },
   {
    "duration": 274,
    "start_time": "2022-08-13T11:10:09.517Z"
   },
   {
    "duration": 118,
    "start_time": "2022-08-13T11:10:09.793Z"
   },
   {
    "duration": 111,
    "start_time": "2022-08-13T11:10:09.913Z"
   },
   {
    "duration": 6,
    "start_time": "2022-08-13T11:10:10.026Z"
   },
   {
    "duration": 152,
    "start_time": "2022-08-13T11:10:10.326Z"
   },
   {
    "duration": 170,
    "start_time": "2022-08-13T11:10:10.807Z"
   },
   {
    "duration": 85,
    "start_time": "2022-08-13T11:10:11.222Z"
   },
   {
    "duration": 27,
    "start_time": "2022-08-13T11:10:11.678Z"
   },
   {
    "duration": 7,
    "start_time": "2022-08-13T11:10:12.275Z"
   },
   {
    "duration": 133,
    "start_time": "2022-08-13T11:10:12.528Z"
   },
   {
    "duration": 113,
    "start_time": "2022-08-13T11:10:12.902Z"
   },
   {
    "duration": 166,
    "start_time": "2022-08-13T11:10:13.172Z"
   },
   {
    "duration": 5,
    "start_time": "2022-08-13T11:10:13.407Z"
   },
   {
    "duration": 3682,
    "start_time": "2022-08-13T11:10:14.134Z"
   },
   {
    "duration": 3921,
    "start_time": "2022-08-13T11:10:17.818Z"
   },
   {
    "duration": 3042,
    "start_time": "2022-08-13T11:10:21.741Z"
   },
   {
    "duration": 74,
    "start_time": "2022-08-13T11:10:24.785Z"
   },
   {
    "duration": 11,
    "start_time": "2022-08-13T11:10:24.860Z"
   },
   {
    "duration": 153,
    "start_time": "2022-08-13T11:10:24.873Z"
   },
   {
    "duration": 120,
    "start_time": "2022-08-13T11:10:25.027Z"
   },
   {
    "duration": 116,
    "start_time": "2022-08-13T11:10:25.149Z"
   },
   {
    "duration": 6,
    "start_time": "2022-08-13T11:10:25.267Z"
   },
   {
    "duration": 87,
    "start_time": "2022-08-13T11:10:40.710Z"
   },
   {
    "duration": 85,
    "start_time": "2022-08-13T11:43:22.332Z"
   },
   {
    "duration": 50,
    "start_time": "2022-08-16T08:31:00.726Z"
   },
   {
    "duration": 1605,
    "start_time": "2022-08-16T08:31:06.281Z"
   },
   {
    "duration": 89,
    "start_time": "2022-08-16T08:31:07.888Z"
   },
   {
    "duration": 22,
    "start_time": "2022-08-16T08:31:07.979Z"
   },
   {
    "duration": 16,
    "start_time": "2022-08-16T08:31:10.775Z"
   },
   {
    "duration": 15,
    "start_time": "2022-08-16T08:31:26.996Z"
   },
   {
    "duration": 8,
    "start_time": "2022-08-16T08:33:28.503Z"
   },
   {
    "duration": 75,
    "start_time": "2022-08-16T08:36:50.930Z"
   },
   {
    "duration": 5,
    "start_time": "2022-08-16T08:36:58.035Z"
   },
   {
    "duration": 45,
    "start_time": "2022-08-16T08:36:58.042Z"
   },
   {
    "duration": 16,
    "start_time": "2022-08-16T08:36:58.089Z"
   },
   {
    "duration": 18,
    "start_time": "2022-08-16T08:36:58.107Z"
   },
   {
    "duration": 16,
    "start_time": "2022-08-16T08:36:58.127Z"
   },
   {
    "duration": 10,
    "start_time": "2022-08-16T08:36:58.145Z"
   },
   {
    "duration": 7,
    "start_time": "2022-08-16T08:36:58.156Z"
   },
   {
    "duration": 40,
    "start_time": "2022-08-16T08:36:58.165Z"
   },
   {
    "duration": 16,
    "start_time": "2022-08-16T08:36:58.208Z"
   },
   {
    "duration": 20,
    "start_time": "2022-08-16T08:36:58.225Z"
   },
   {
    "duration": 66,
    "start_time": "2022-08-16T08:36:58.247Z"
   },
   {
    "duration": 4,
    "start_time": "2022-08-16T08:37:04.652Z"
   },
   {
    "duration": 13,
    "start_time": "2022-08-16T08:44:29.016Z"
   },
   {
    "duration": 4,
    "start_time": "2022-08-16T08:44:33.499Z"
   },
   {
    "duration": 50,
    "start_time": "2022-08-16T08:44:33.506Z"
   },
   {
    "duration": 15,
    "start_time": "2022-08-16T08:44:33.558Z"
   },
   {
    "duration": 17,
    "start_time": "2022-08-16T08:44:33.576Z"
   },
   {
    "duration": 13,
    "start_time": "2022-08-16T08:44:33.602Z"
   },
   {
    "duration": 9,
    "start_time": "2022-08-16T08:44:33.617Z"
   },
   {
    "duration": 7,
    "start_time": "2022-08-16T08:44:33.632Z"
   },
   {
    "duration": 5,
    "start_time": "2022-08-16T08:44:33.641Z"
   },
   {
    "duration": 17,
    "start_time": "2022-08-16T08:44:33.648Z"
   },
   {
    "duration": 19,
    "start_time": "2022-08-16T08:44:33.703Z"
   },
   {
    "duration": 43,
    "start_time": "2022-08-16T08:44:33.724Z"
   },
   {
    "duration": 5,
    "start_time": "2022-08-16T08:44:33.769Z"
   },
   {
    "duration": 128,
    "start_time": "2022-08-16T08:44:33.776Z"
   },
   {
    "duration": 243,
    "start_time": "2022-08-16T08:44:33.908Z"
   },
   {
    "duration": 4080,
    "start_time": "2022-08-16T08:44:34.153Z"
   },
   {
    "duration": 143,
    "start_time": "2022-08-16T08:44:38.235Z"
   },
   {
    "duration": 5,
    "start_time": "2022-08-16T08:44:38.380Z"
   },
   {
    "duration": 8,
    "start_time": "2022-08-16T08:44:38.387Z"
   },
   {
    "duration": 100,
    "start_time": "2022-08-16T08:44:38.404Z"
   },
   {
    "duration": 127,
    "start_time": "2022-08-16T08:44:38.507Z"
   },
   {
    "duration": 185,
    "start_time": "2022-08-16T08:44:38.637Z"
   },
   {
    "duration": 87,
    "start_time": "2022-08-16T08:44:38.824Z"
   },
   {
    "duration": 337,
    "start_time": "2022-08-16T08:44:38.913Z"
   },
   {
    "duration": 140,
    "start_time": "2022-08-16T08:44:39.252Z"
   },
   {
    "duration": 142,
    "start_time": "2022-08-16T08:44:39.394Z"
   },
   {
    "duration": 6,
    "start_time": "2022-08-16T08:44:39.537Z"
   },
   {
    "duration": 181,
    "start_time": "2022-08-16T08:44:39.545Z"
   },
   {
    "duration": 214,
    "start_time": "2022-08-16T08:44:39.728Z"
   },
   {
    "duration": 115,
    "start_time": "2022-08-16T08:44:39.944Z"
   },
   {
    "duration": 26,
    "start_time": "2022-08-16T08:44:40.061Z"
   },
   {
    "duration": 19,
    "start_time": "2022-08-16T08:44:40.088Z"
   },
   {
    "duration": 194,
    "start_time": "2022-08-16T08:44:40.109Z"
   },
   {
    "duration": 149,
    "start_time": "2022-08-16T08:44:40.305Z"
   },
   {
    "duration": 221,
    "start_time": "2022-08-16T08:44:40.456Z"
   },
   {
    "duration": 23,
    "start_time": "2022-08-16T08:44:40.680Z"
   },
   {
    "duration": 4164,
    "start_time": "2022-08-16T08:44:40.706Z"
   },
   {
    "duration": 4445,
    "start_time": "2022-08-16T08:44:44.872Z"
   },
   {
    "duration": 3650,
    "start_time": "2022-08-16T08:44:49.320Z"
   },
   {
    "duration": 78,
    "start_time": "2022-08-16T08:44:52.971Z"
   },
   {
    "duration": 12,
    "start_time": "2022-08-16T08:44:53.051Z"
   },
   {
    "duration": 188,
    "start_time": "2022-08-16T08:44:53.067Z"
   },
   {
    "duration": 168,
    "start_time": "2022-08-16T08:44:53.257Z"
   },
   {
    "duration": 137,
    "start_time": "2022-08-16T08:44:53.427Z"
   },
   {
    "duration": 8,
    "start_time": "2022-08-16T08:44:53.566Z"
   },
   {
    "duration": 119,
    "start_time": "2022-08-16T08:44:53.576Z"
   },
   {
    "duration": 4,
    "start_time": "2022-08-16T08:45:02.349Z"
   },
   {
    "duration": 8,
    "start_time": "2022-08-16T08:45:17.861Z"
   }
  ],
  "kernelspec": {
   "display_name": "Python 3",
   "language": "python",
   "name": "python3"
  },
  "language_info": {
   "codemirror_mode": {
    "name": "ipython",
    "version": 3
   },
   "file_extension": ".py",
   "mimetype": "text/x-python",
   "name": "python",
   "nbconvert_exporter": "python",
   "pygments_lexer": "ipython3",
   "version": "3.8.8"
  },
  "toc": {
   "base_numbering": 1,
   "nav_menu": {
    "height": "214px",
    "width": "282px"
   },
   "number_sections": true,
   "sideBar": true,
   "skip_h1_title": false,
   "title_cell": "Table of Contents",
   "title_sidebar": "Contents",
   "toc_cell": false,
   "toc_position": {},
   "toc_section_display": true,
   "toc_window_display": false
  }
 },
 "nbformat": 4,
 "nbformat_minor": 5
}
